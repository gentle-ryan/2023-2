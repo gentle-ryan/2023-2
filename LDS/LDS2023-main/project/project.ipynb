{
 "cells": [
  {
   "cell_type": "markdown",
   "metadata": {},
   "source": [
    "# Preprocessing"
   ]
  },
  {
   "cell_type": "code",
   "execution_count": 2,
   "metadata": {},
   "outputs": [],
   "source": [
    "import zipfile\n",
    "\n",
    "import json\n",
    "\n",
    "from tqdm import tqdm\n",
    "import pickle\n",
    "\n",
    "import pandas as pd\n",
    "import matplotlib.pyplot as plt\n",
    "\n",
    "from konlpy.tag import Okt, Kkma, Komoran\n",
    "okt = Okt()\n",
    "kkama = Kkma()\n",
    "komoran = Komoran()\n",
    "\n",
    "from collections import Counter\n",
    "\n",
    "\n",
    "from gensim.models import Word2Vec\n",
    "from sklearn.manifold import TSNE\n",
    "import seaborn as sns"
   ]
  },
  {
   "cell_type": "code",
   "execution_count": null,
   "metadata": {},
   "outputs": [],
   "source": [
    "# 모두의 말뭉치의  [일상 대화 말뭉치 2021] 사용\n",
    "zipfilename = \"../data/NIKL_DIALOGUE_2021_v1.0.zip\"\n",
    "\n",
    "# 발화 리스트\n",
    "utterances_list = [] \n",
    "\n",
    "\n",
    "# 압축된 zip 파일 읽기\n",
    "with zipfile.ZipFile(zipfilename) as z:\n",
    "  for filename in tqdm(z.namelist()):\n",
    "    if not filename.endswith(('.json', '.JSON')):\n",
    "      continue\n",
    "\n",
    "    with z.open(filename) as f:  \n",
    "      data = json.loads(f.read().decode(\"utf-8\"))  \n",
    "\n",
    "    for document in data['document']:\n",
    "      # 발화 목록 업데이트:\n",
    "      # 문서의 발화 목록을 기존 목록에 더하기\n",
    "      utterances_list.extend(document['utterance'])"
   ]
  },
  {
   "cell_type": "code",
   "execution_count": null,
   "metadata": {},
   "outputs": [],
   "source": [
    "# 모두의 말뭉치의  [일상 대화 말뭉치 2020] 사용\n",
    "zipfilename = \"../data/NIKL_DIALOGUE_2020_v1.0.zip\"\n",
    "\n",
    "# 압축된 zip 파일 읽기\n",
    "with zipfile.ZipFile(zipfilename) as z:\n",
    "  for filename in tqdm(z.namelist()):\n",
    "    if not filename.endswith(('.json', '.JSON')):\n",
    "      continue\n",
    "\n",
    "    with z.open(filename) as f:  \n",
    "      data = json.loads(f.read().decode(\"utf-8\"))  \n",
    "\n",
    "    for document in data['document']:\n",
    "      # 발화 목록 업데이트:\n",
    "      # 문서의 발화 목록을 기존 목록에 더하기\n",
    "      utterances_list.extend(document['utterance'])"
   ]
  },
  {
   "cell_type": "code",
   "execution_count": null,
   "metadata": {},
   "outputs": [],
   "source": [
    "# 모두의 말뭉치의  [국회 회의록 말뭉치2021] 사용\n",
    "zipfilename = \"../data/NIKL_DIALOGUE_2021_v1.0.zip\"\n",
    "\n",
    "# 발화 리스트\n",
    "utterances_list = [] \n",
    "\n",
    "\n",
    "# 압축된 zip 파일 읽기\n",
    "with zipfile.ZipFile(zipfilename) as z:\n",
    "  for filename in tqdm(z.namelist()):\n",
    "    if not filename.endswith(('.json', '.JSON')):\n",
    "      continue\n",
    "\n",
    "    with z.open(filename) as f:  \n",
    "      data = json.loads(f.read().decode(\"utf-8\"))  \n",
    "\n",
    "    for document in data['document']:\n",
    "      # 발화 목록 업데이트:\n",
    "      # 문서의 발화 목록을 기존 목록에 더하기\n",
    "      utterances_list.extend(document['utterance'])"
   ]
  },
  {
   "cell_type": "code",
   "execution_count": null,
   "metadata": {},
   "outputs": [],
   "source": [
    "df_utterances = pd.DataFrame(utterances_list).to_csv('../NIKL_DL_utterances.csv')"
   ]
  },
  {
   "cell_type": "code",
   "execution_count": 3,
   "metadata": {},
   "outputs": [
    {
     "name": "stderr",
     "output_type": "stream",
     "text": [
      "tar: : Couldn't visit directory: No such file or directory\n",
      "tar: Error exit delayed from previous errors.\n",
      "tar: : Couldn't visit directory: No such file or directory\n",
      "tar: Error exit delayed from previous errors.\n",
      "tar: : Couldn't visit directory: No such file or directory\n",
      "tar: Error exit delayed from previous errors.\n"
     ]
    }
   ],
   "source": [
    "!tar -czf ../NIKL_DL_utterances.csv.tar.gz ../NIKL_DL_utterances.csv\n",
    "!tar -czf ../NIKL_DL_relations.csv.tar.gz ../NIKL_DL_relations.csv\n",
    "!tar -czf ../NIKL_DL_ids.csv.tar.gz ../NIKL_DL_ids.csv"
   ]
  },
  {
   "cell_type": "code",
   "execution_count": 5,
   "metadata": {},
   "outputs": [],
   "source": [
    "#form 열만 불러오자\n",
    "utterances = pd.read_csv('../NIKL_DL_utterances.csv.tar.gz', compression='gzip', on_bad_lines='skip', usecols=[2])\n",
    "\n",
    "utterances.dropna(inplace=True)"
   ]
  },
  {
   "cell_type": "markdown",
   "metadata": {},
   "source": [
    "# Filtering"
   ]
  },
  {
   "cell_type": "code",
   "execution_count": 5,
   "metadata": {},
   "outputs": [
    {
     "data": {
      "text/html": [
       "<div>\n",
       "<style scoped>\n",
       "    .dataframe tbody tr th:only-of-type {\n",
       "        vertical-align: middle;\n",
       "    }\n",
       "\n",
       "    .dataframe tbody tr th {\n",
       "        vertical-align: top;\n",
       "    }\n",
       "\n",
       "    .dataframe thead th {\n",
       "        text-align: right;\n",
       "    }\n",
       "</style>\n",
       "<table border=\"1\" class=\"dataframe\">\n",
       "  <thead>\n",
       "    <tr style=\"text-align: right;\">\n",
       "      <th></th>\n",
       "      <th>form</th>\n",
       "    </tr>\n",
       "  </thead>\n",
       "  <tbody>\n",
       "    <tr>\n",
       "      <th>154</th>\n",
       "      <td>이거 좋다 그랬던 엔시티 노래 다 엄청 빠른 노래들 아니야?</td>\n",
       "    </tr>\n",
       "    <tr>\n",
       "      <th>406</th>\n",
       "      <td>근데 내 친구들 보면 다 팬싸 가려고 사는</td>\n",
       "    </tr>\n",
       "    <tr>\n",
       "      <th>916</th>\n",
       "      <td>어 운동에 대해서는 많이들 관심을 갖지 않는 거 같아. 너는 어떻게 생각해?</td>\n",
       "    </tr>\n",
       "    <tr>\n",
       "      <th>965</th>\n",
       "      <td>다들 유튜브에 있는 운동 영상 보면서 운동 많이 하더라고.</td>\n",
       "    </tr>\n",
       "    <tr>\n",
       "      <th>988</th>\n",
       "      <td>혹시 그런 친구들 본 적 있어?</td>\n",
       "    </tr>\n",
       "    <tr>\n",
       "      <th>...</th>\n",
       "      <td>...</td>\n",
       "    </tr>\n",
       "    <tr>\n",
       "      <th>5556717</th>\n",
       "      <td>노인들 말이지요, 어디 한 군데 주고 나면 와글와글 하잖아.</td>\n",
       "    </tr>\n",
       "    <tr>\n",
       "      <th>5556755</th>\n",
       "      <td>아이들 제대로 된 체육 교육 시키는 것에 투자해야 돼요. 애들 요즘 다......</td>\n",
       "    </tr>\n",
       "    <tr>\n",
       "      <th>5556759</th>\n",
       "      <td>애들 체육 시켜야지. 지금 예산 300억 증액시키려고 그러는데......</td>\n",
       "    </tr>\n",
       "    <tr>\n",
       "      <th>5556772</th>\n",
       "      <td>진짜 강남에 있는 애들 축구 같은 것 주말에 20만 원씩 내고 하더라니까, 2시간에.</td>\n",
       "    </tr>\n",
       "    <tr>\n",
       "      <th>5556823</th>\n",
       "      <td>아니, 훑어봐 가지고 증액사업에서 누락된 것 있으면 위원님들이 이야기를 해 주셔야 ...</td>\n",
       "    </tr>\n",
       "  </tbody>\n",
       "</table>\n",
       "<p>118308 rows × 1 columns</p>\n",
       "</div>"
      ],
      "text/plain": [
       "                                                      form\n",
       "154                      이거 좋다 그랬던 엔시티 노래 다 엄청 빠른 노래들 아니야?\n",
       "406                                근데 내 친구들 보면 다 팬싸 가려고 사는\n",
       "916             어 운동에 대해서는 많이들 관심을 갖지 않는 거 같아. 너는 어떻게 생각해?\n",
       "965                       다들 유튜브에 있는 운동 영상 보면서 운동 많이 하더라고.\n",
       "988                                      혹시 그런 친구들 본 적 있어?\n",
       "...                                                    ...\n",
       "5556717                  노인들 말이지요, 어디 한 군데 주고 나면 와글와글 하잖아.\n",
       "5556755      아이들 제대로 된 체육 교육 시키는 것에 투자해야 돼요. 애들 요즘 다......\n",
       "5556759           애들 체육 시켜야지. 지금 예산 300억 증액시키려고 그러는데......\n",
       "5556772    진짜 강남에 있는 애들 축구 같은 것 주말에 20만 원씩 내고 하더라니까, 2시간에.\n",
       "5556823  아니, 훑어봐 가지고 증액사업에서 누락된 것 있으면 위원님들이 이야기를 해 주셔야 ...\n",
       "\n",
       "[118308 rows x 1 columns]"
      ]
     },
     "execution_count": 5,
     "metadata": {},
     "output_type": "execute_result"
    }
   ],
   "source": [
    "utterances_deul = utterances[utterances['form'].str.contains(r'들\\b')]\n",
    "utterances_deul"
   ]
  },
  {
   "cell_type": "code",
   "execution_count": 15,
   "metadata": {},
   "outputs": [],
   "source": [
    "# form의 한 행에 여러 문장이 있는 경우가 있으므로 문장 분리\n",
    "sentence = utterances_deul['form'].str.split('.', expand=True)\n",
    "sentence = sentence.apply(lambda x: pd.Series(x))\n",
    "sentence = sentence.stack().reset_index(level=1, drop=True).to_frame('sentences')\n",
    "utterances_deul2 = utterances_deul.merge(sentence, left_index=True, right_index=True, how='left')\n",
    "del utterances_deul2['form']"
   ]
  },
  {
   "cell_type": "code",
   "execution_count": 22,
   "metadata": {},
   "outputs": [
    {
     "data": {
      "text/html": [
       "<div>\n",
       "<style scoped>\n",
       "    .dataframe tbody tr th:only-of-type {\n",
       "        vertical-align: middle;\n",
       "    }\n",
       "\n",
       "    .dataframe tbody tr th {\n",
       "        vertical-align: top;\n",
       "    }\n",
       "\n",
       "    .dataframe thead th {\n",
       "        text-align: right;\n",
       "    }\n",
       "</style>\n",
       "<table border=\"1\" class=\"dataframe\">\n",
       "  <thead>\n",
       "    <tr style=\"text-align: right;\">\n",
       "      <th></th>\n",
       "      <th>sentences</th>\n",
       "    </tr>\n",
       "  </thead>\n",
       "  <tbody>\n",
       "    <tr>\n",
       "      <th>0</th>\n",
       "      <td>이거 좋다 그랬던 엔시티 노래 다 엄청 빠른 노래들 아니야?</td>\n",
       "    </tr>\n",
       "    <tr>\n",
       "      <th>1</th>\n",
       "      <td>근데 내 친구들 보면 다 팬싸 가려고 사는</td>\n",
       "    </tr>\n",
       "    <tr>\n",
       "      <th>2</th>\n",
       "      <td>어 운동에 대해서는 많이들 관심을 갖지 않는 거 같아</td>\n",
       "    </tr>\n",
       "    <tr>\n",
       "      <th>3</th>\n",
       "      <td>다들 유튜브에 있는 운동 영상 보면서 운동 많이 하더라고</td>\n",
       "    </tr>\n",
       "    <tr>\n",
       "      <th>4</th>\n",
       "      <td>혹시 그런 친구들 본 적 있어?</td>\n",
       "    </tr>\n",
       "    <tr>\n",
       "      <th>...</th>\n",
       "      <td>...</td>\n",
       "    </tr>\n",
       "    <tr>\n",
       "      <th>120437</th>\n",
       "      <td>아이들 제대로 된 체육 교육 시키는 것에 투자해야 돼요</td>\n",
       "    </tr>\n",
       "    <tr>\n",
       "      <th>120438</th>\n",
       "      <td>애들 요즘 다</td>\n",
       "    </tr>\n",
       "    <tr>\n",
       "      <th>120439</th>\n",
       "      <td>애들 체육 시켜야지</td>\n",
       "    </tr>\n",
       "    <tr>\n",
       "      <th>120440</th>\n",
       "      <td>진짜 강남에 있는 애들 축구 같은 것 주말에 20만 원씩 내고 하더라니까, 2시간에</td>\n",
       "    </tr>\n",
       "    <tr>\n",
       "      <th>120441</th>\n",
       "      <td>아니, 훑어봐 가지고 증액사업에서 누락된 것 있으면 위원님들이 이야기를 해 주셔야 ...</td>\n",
       "    </tr>\n",
       "  </tbody>\n",
       "</table>\n",
       "<p>120442 rows × 1 columns</p>\n",
       "</div>"
      ],
      "text/plain": [
       "                                                sentences\n",
       "0                       이거 좋다 그랬던 엔시티 노래 다 엄청 빠른 노래들 아니야?\n",
       "1                                 근데 내 친구들 보면 다 팬싸 가려고 사는\n",
       "2                           어 운동에 대해서는 많이들 관심을 갖지 않는 거 같아\n",
       "3                         다들 유튜브에 있는 운동 영상 보면서 운동 많이 하더라고\n",
       "4                                       혹시 그런 친구들 본 적 있어?\n",
       "...                                                   ...\n",
       "120437                     아이들 제대로 된 체육 교육 시키는 것에 투자해야 돼요\n",
       "120438                                            애들 요즘 다\n",
       "120439                                         애들 체육 시켜야지\n",
       "120440     진짜 강남에 있는 애들 축구 같은 것 주말에 20만 원씩 내고 하더라니까, 2시간에\n",
       "120441  아니, 훑어봐 가지고 증액사업에서 누락된 것 있으면 위원님들이 이야기를 해 주셔야 ...\n",
       "\n",
       "[120442 rows x 1 columns]"
      ]
     },
     "execution_count": 22,
     "metadata": {},
     "output_type": "execute_result"
    }
   ],
   "source": [
    "utterances_deul2 = utterances_deul2[utterances_deul2['sentences'].str.contains(r'들\\b')]\n",
    "utterances_deul2.reset_index(drop=True, inplace=True)\n",
    "utterances_deul2"
   ]
  },
  {
   "cell_type": "markdown",
   "metadata": {},
   "source": [
    "okt의 품사태깅에 따르면 간접 복수표지 들은 'Verb'로 분류가 된다. 이를 이용하여 간접복수표지로 사용된 경우 만을 분리하자"
   ]
  },
  {
   "cell_type": "code",
   "execution_count": 10,
   "metadata": {},
   "outputs": [
    {
     "data": {
      "text/plain": [
       "[('남자', 'Noun'),\n",
       " ('들', 'Suffix'),\n",
       " ('이', 'Josa'),\n",
       " ('공원', 'Noun'),\n",
       " ('에서', 'Josa'),\n",
       " ('들', 'Verb'),\n",
       " ('축구', 'Noun'),\n",
       " ('들', 'Suffix'),\n",
       " ('하다가', 'Verb'),\n",
       " ('오셨다', 'Verb'),\n",
       " ('들', 'Verb')]"
      ]
     },
     "execution_count": 10,
     "metadata": {},
     "output_type": "execute_result"
    }
   ],
   "source": [
    "okt.pos('남자들이 공원에서들 축구들 하다가 오셨다들')"
   ]
  },
  {
   "cell_type": "code",
   "execution_count": 12,
   "metadata": {},
   "outputs": [
    {
     "data": {
      "text/plain": [
       "[('남자', 'NNG'),\n",
       " ('들', 'XSN'),\n",
       " ('이', 'JKS'),\n",
       " ('공원', 'NNG'),\n",
       " ('에서', 'JKM'),\n",
       " ('드', 'VV'),\n",
       " ('ㄹ', 'ETD'),\n",
       " ('축구', 'NNG'),\n",
       " ('들', 'XSN'),\n",
       " ('하다', 'NNP'),\n",
       " ('가', 'JKS'),\n",
       " ('들', 'VV'),\n",
       " ('ㄹ', 'ETD'),\n",
       " ('오시', 'VV'),\n",
       " ('었', 'EPT'),\n",
       " ('다', 'ECS'),\n",
       " ('듣', 'VV')]"
      ]
     },
     "execution_count": 12,
     "metadata": {},
     "output_type": "execute_result"
    }
   ],
   "source": [
    "kkama.pos('남자들이 공원에서들 축구들 하다가들 오셨다들')\n",
    "# 오셨대요들의 들을 듣으로 분류함"
   ]
  },
  {
   "cell_type": "code",
   "execution_count": 13,
   "metadata": {},
   "outputs": [
    {
     "data": {
      "text/plain": [
       "[('남자들', 'NNP'),\n",
       " ('이', 'JKS'),\n",
       " ('공원', 'NNG'),\n",
       " ('에서', 'JKB'),\n",
       " ('들', 'XSN'),\n",
       " ('축구', 'NNG'),\n",
       " ('들', 'XSN'),\n",
       " ('하', 'VV'),\n",
       " ('다가', 'EC'),\n",
       " ('오', 'VX'),\n",
       " ('시', 'EP'),\n",
       " ('었', 'EP'),\n",
       " ('다', 'EC'),\n",
       " ('들', 'XSN')]"
      ]
     },
     "execution_count": 13,
     "metadata": {},
     "output_type": "execute_result"
    }
   ],
   "source": [
    "komoran.pos('남자들이 공원에서들 축구들 하다가 오셨다들')\n",
    "#간접과 직접을 구분하지 못함"
   ]
  },
  {
   "cell_type": "code",
   "execution_count": 23,
   "metadata": {},
   "outputs": [],
   "source": [
    "#들이 간접으로 사용된 경우만을 추출\n",
    "for i, sentence in enumerate(utterances_deul2['sentences']):\n",
    "    if ('들', 'Verb') in okt.pos(sentence):\n",
    "        pass\n",
    "    else:\n",
    "        utterances_deul2.drop(i, inplace= True)\n",
    "\n"
   ]
  },
  {
   "cell_type": "code",
   "execution_count": 132,
   "metadata": {},
   "outputs": [
    {
     "data": {
      "text/html": [
       "<div>\n",
       "<style scoped>\n",
       "    .dataframe tbody tr th:only-of-type {\n",
       "        vertical-align: middle;\n",
       "    }\n",
       "\n",
       "    .dataframe tbody tr th {\n",
       "        vertical-align: top;\n",
       "    }\n",
       "\n",
       "    .dataframe thead th {\n",
       "        text-align: right;\n",
       "    }\n",
       "</style>\n",
       "<table border=\"1\" class=\"dataframe\">\n",
       "  <thead>\n",
       "    <tr style=\"text-align: right;\">\n",
       "      <th></th>\n",
       "      <th>sentences</th>\n",
       "      <th>tagger_kkama</th>\n",
       "      <th>tagger_okt</th>\n",
       "    </tr>\n",
       "  </thead>\n",
       "  <tbody>\n",
       "    <tr>\n",
       "      <th>0</th>\n",
       "      <td>어 운동에 대해서는 많이들 관심을 갖지 않는 거 같아</td>\n",
       "      <td>[어/VV, 어/ECS, 운동/NNG, 에/JKM, 대하/VV, 어서/ECD, 는/...</td>\n",
       "      <td>[어/Eomi, 운동/Noun, 에/Josa, 대해/Noun, 서는/Verb, 많이...</td>\n",
       "    </tr>\n",
       "    <tr>\n",
       "      <th>1</th>\n",
       "      <td>다들 유튜브에 있는 운동 영상 보면서 운동 많이 하더라고</td>\n",
       "      <td>[다/MAG, 들/VV, ㄹ/ETD, 유/NNG, 튜브/NNG, 에/JKM, 있/V...</td>\n",
       "      <td>[다/Adverb, 들/Verb, 유튜브/Noun, 에/Josa, 있는/Adject...</td>\n",
       "    </tr>\n",
       "    <tr>\n",
       "      <th>2</th>\n",
       "      <td>요즘에 배달 음식 많이들 시켜 먹던데</td>\n",
       "      <td>[요즘/NNG, 에/JKM, 배달/NNG, 음식/NNG, 많이/MAG, 들/JX, ...</td>\n",
       "      <td>[요즘/Noun, 에/Josa, 배달/Noun, 음식/Noun, 많이/Adverb,...</td>\n",
       "    </tr>\n",
       "    <tr>\n",
       "      <th>3</th>\n",
       "      <td>그렇구나 보통 떡볶이보다 그 사이드메뉴가 더 맛있어 가지고 다들 사이드메뉴를 더 많...</td>\n",
       "      <td>[그렇/VA, 구나/EFI, 보통/MAG, 떡볶이/NNG, 보다/JKM, 그/MDT...</td>\n",
       "      <td>[그렇구나/Adjective, 보통/Noun, 떡볶이/Noun, 보다/Josa, 그...</td>\n",
       "    </tr>\n",
       "    <tr>\n",
       "      <th>4</th>\n",
       "      <td>처리하는 부분에서도 크게 문제가 없다 보니까 많이들 시켜 먹는 거 같아</td>\n",
       "      <td>[처리/NNG, 하/XSV, 는/ETD, 부분/NNG, 에서/JKM, 도/JX, 크...</td>\n",
       "      <td>[처리/Noun, 하는/Verb, 부분/Noun, 에서도/Josa, 크게/Noun,...</td>\n",
       "    </tr>\n",
       "    <tr>\n",
       "      <th>...</th>\n",
       "      <td>...</td>\n",
       "      <td>...</td>\n",
       "      <td>...</td>\n",
       "    </tr>\n",
       "    <tr>\n",
       "      <th>5635</th>\n",
       "      <td>그런 상황에서 종합편성채널은 일반 지상파 이상의 파괴력을 갖고 있다고 다들 보기 때...</td>\n",
       "      <td>[그런/MDT, 상황/NNG, 에서/JKM, 종합/NNG, 편성/NNG, 채널/NN...</td>\n",
       "      <td>[그런/Adjective, 상황/Noun, 에서/Josa, 종합/Noun, 편성/N...</td>\n",
       "    </tr>\n",
       "    <tr>\n",
       "      <th>5636</th>\n",
       "      <td>이 부분에 대해서는 의견들이 다들, 생각들이 다들 많으실 것 같아</td>\n",
       "      <td>[이/MDT, 부분/NNG, 에/JKM, 대하/VV, 어서/ECD, 는/JX, 의견...</td>\n",
       "      <td>[이/Noun, 부분/Noun, 에/Josa, 대해/Noun, 서는/Verb, 의견...</td>\n",
       "    </tr>\n",
       "    <tr>\n",
       "      <th>5637</th>\n",
       "      <td>그래서 각 개별법들에 있는 과태료 조항들을 지금 사실 다들 없애고 있습니다</td>\n",
       "      <td>[그래서/MAC, 각/MDT, 개별법/NNG, 들/XSN, 에/JKM, 있/VV, ...</td>\n",
       "      <td>[그래서/Adverb, 각/Noun, 개별/Noun, 법/Noun, 들/Suffix...</td>\n",
       "    </tr>\n",
       "    <tr>\n",
       "      <th>5638</th>\n",
       "      <td>거기다 저희가 듣기로는, 연계된 DB들 있잖아요</td>\n",
       "      <td>[거기/NP, 이/VCP, 다/EFN, 저희/NP, 가/JKS, 듣기/NNG, 로/...</td>\n",
       "      <td>[거기/Noun, 다/Josa, 저희/Noun, 가/Josa, 듣기/Noun, 로는...</td>\n",
       "    </tr>\n",
       "    <tr>\n",
       "      <th>5639</th>\n",
       "      <td>그거 그렇게 불명확한 거예요? 그러니까 지금 이렇게 다들</td>\n",
       "      <td>[그거/NP, 그렇/VA, 게/ECD, 불명확/NNG, 하/XSV, ㄴ/ETD, 거...</td>\n",
       "      <td>[그거/Noun, 그렇게/Adverb, 불/Noun, 명확한/Adjective, 거...</td>\n",
       "    </tr>\n",
       "  </tbody>\n",
       "</table>\n",
       "<p>5640 rows × 3 columns</p>\n",
       "</div>"
      ],
      "text/plain": [
       "                                              sentences  \\\n",
       "0                         어 운동에 대해서는 많이들 관심을 갖지 않는 거 같아   \n",
       "1                       다들 유튜브에 있는 운동 영상 보면서 운동 많이 하더라고   \n",
       "2                                  요즘에 배달 음식 많이들 시켜 먹던데   \n",
       "3     그렇구나 보통 떡볶이보다 그 사이드메뉴가 더 맛있어 가지고 다들 사이드메뉴를 더 많...   \n",
       "4               처리하는 부분에서도 크게 문제가 없다 보니까 많이들 시켜 먹는 거 같아   \n",
       "...                                                 ...   \n",
       "5635  그런 상황에서 종합편성채널은 일반 지상파 이상의 파괴력을 갖고 있다고 다들 보기 때...   \n",
       "5636               이 부분에 대해서는 의견들이 다들, 생각들이 다들 많으실 것 같아   \n",
       "5637          그래서 각 개별법들에 있는 과태료 조항들을 지금 사실 다들 없애고 있습니다   \n",
       "5638                         거기다 저희가 듣기로는, 연계된 DB들 있잖아요   \n",
       "5639                    그거 그렇게 불명확한 거예요? 그러니까 지금 이렇게 다들   \n",
       "\n",
       "                                           tagger_kkama  \\\n",
       "0     [어/VV, 어/ECS, 운동/NNG, 에/JKM, 대하/VV, 어서/ECD, 는/...   \n",
       "1     [다/MAG, 들/VV, ㄹ/ETD, 유/NNG, 튜브/NNG, 에/JKM, 있/V...   \n",
       "2     [요즘/NNG, 에/JKM, 배달/NNG, 음식/NNG, 많이/MAG, 들/JX, ...   \n",
       "3     [그렇/VA, 구나/EFI, 보통/MAG, 떡볶이/NNG, 보다/JKM, 그/MDT...   \n",
       "4     [처리/NNG, 하/XSV, 는/ETD, 부분/NNG, 에서/JKM, 도/JX, 크...   \n",
       "...                                                 ...   \n",
       "5635  [그런/MDT, 상황/NNG, 에서/JKM, 종합/NNG, 편성/NNG, 채널/NN...   \n",
       "5636  [이/MDT, 부분/NNG, 에/JKM, 대하/VV, 어서/ECD, 는/JX, 의견...   \n",
       "5637  [그래서/MAC, 각/MDT, 개별법/NNG, 들/XSN, 에/JKM, 있/VV, ...   \n",
       "5638  [거기/NP, 이/VCP, 다/EFN, 저희/NP, 가/JKS, 듣기/NNG, 로/...   \n",
       "5639  [그거/NP, 그렇/VA, 게/ECD, 불명확/NNG, 하/XSV, ㄴ/ETD, 거...   \n",
       "\n",
       "                                             tagger_okt  \n",
       "0     [어/Eomi, 운동/Noun, 에/Josa, 대해/Noun, 서는/Verb, 많이...  \n",
       "1     [다/Adverb, 들/Verb, 유튜브/Noun, 에/Josa, 있는/Adject...  \n",
       "2     [요즘/Noun, 에/Josa, 배달/Noun, 음식/Noun, 많이/Adverb,...  \n",
       "3     [그렇구나/Adjective, 보통/Noun, 떡볶이/Noun, 보다/Josa, 그...  \n",
       "4     [처리/Noun, 하는/Verb, 부분/Noun, 에서도/Josa, 크게/Noun,...  \n",
       "...                                                 ...  \n",
       "5635  [그런/Adjective, 상황/Noun, 에서/Josa, 종합/Noun, 편성/N...  \n",
       "5636  [이/Noun, 부분/Noun, 에/Josa, 대해/Noun, 서는/Verb, 의견...  \n",
       "5637  [그래서/Adverb, 각/Noun, 개별/Noun, 법/Noun, 들/Suffix...  \n",
       "5638  [거기/Noun, 다/Josa, 저희/Noun, 가/Josa, 듣기/Noun, 로는...  \n",
       "5639  [그거/Noun, 그렇게/Adverb, 불/Noun, 명확한/Adjective, 거...  \n",
       "\n",
       "[5640 rows x 3 columns]"
      ]
     },
     "execution_count": 132,
     "metadata": {},
     "output_type": "execute_result"
    }
   ],
   "source": [
    "utterances_deul2"
   ]
  },
  {
   "cell_type": "code",
   "execution_count": 25,
   "metadata": {},
   "outputs": [],
   "source": [
    "#많이 발견되지만 간접복수표지가 이닌경우 수작업으로 제거\n",
    "utterances_deul2 = utterances_deul2[utterances_deul2['sentences'].str.contains(r'님들\\b') == False]\n",
    "utterances_deul2 = utterances_deul2[utterances_deul2['sentences'].str.contains(r'네들\\b') == False]\n",
    "utterances_deul2 = utterances_deul2[utterances_deul2['sentences'].str.contains(r'\\b들\\b') == False]\n",
    "utterances_deul2.reset_index(drop=True, inplace=True)"
   ]
  },
  {
   "cell_type": "code",
   "execution_count": 8,
   "metadata": {},
   "outputs": [],
   "source": [
    "# 추후 편의를 위해 csv로 저장하고 불러오는 코드 \n",
    "# utterances_deul2.to_csv('deul.csv')\n",
    "# utterances_deul2 = pd.read_csv('../data/deul.csv')"
   ]
  },
  {
   "cell_type": "markdown",
   "metadata": {},
   "source": [
    "# Tag"
   ]
  },
  {
   "cell_type": "code",
   "execution_count": 10,
   "metadata": {},
   "outputs": [],
   "source": [
    "# tag 를 결합시킨 데이터프레임 만들기\n",
    "tagger_kkama = []\n",
    "tagger_okt = []\n",
    "for sentence in utterances_deul2['sentences']:\n",
    "    tagger_kkama.append(kkama.pos(sentence, join=True))\n",
    "    tagger_okt.append(okt.pos(sentence, join=True))\n",
    "utterances_deul2['tagger_kkama'] = tagger_kkama\n",
    "utterances_deul2['tagger_okt'] = tagger_okt\n"
   ]
  },
  {
   "cell_type": "markdown",
   "metadata": {},
   "source": [
    "# Counting"
   ]
  },
  {
   "cell_type": "markdown",
   "metadata": {},
   "source": [
    "들과 직접적으로 결합하는 단어를 파악하기 위한 코드들입니다."
   ]
  },
  {
   "cell_type": "code",
   "execution_count": 16,
   "metadata": {},
   "outputs": [],
   "source": [
    "okt_deul = utterances_deul2['tagger_okt']\n",
    "deulplus = []\n",
    "for sentence in okt_deul:\n",
    "    for i, word in enumerate(sentence):\n",
    "        if word == '들/Verb':\n",
    "            deulplus.append(sentence[i-1])"
   ]
  },
  {
   "cell_type": "code",
   "execution_count": 17,
   "metadata": {},
   "outputs": [],
   "source": [
    "count = Counter(deulplus)\n",
    "plusdeul = pd.DataFrame.from_dict(count, orient='index').sort_values(0, ascending=False).reset_index()"
   ]
  },
  {
   "cell_type": "code",
   "execution_count": 18,
   "metadata": {},
   "outputs": [],
   "source": [
    "c_index = plusdeul['index'].str.split('/', expand=True)\n",
    "plusdeul = pd.concat([ c_index, plusdeul], axis=1)\n",
    "del plusdeul['index']\n",
    "plusdeul.columns = ['word', 'okt_tag', 'count']"
   ]
  },
  {
   "cell_type": "code",
   "execution_count": 19,
   "metadata": {},
   "outputs": [
    {
     "data": {
      "text/html": [
       "<div>\n",
       "<style scoped>\n",
       "    .dataframe tbody tr th:only-of-type {\n",
       "        vertical-align: middle;\n",
       "    }\n",
       "\n",
       "    .dataframe tbody tr th {\n",
       "        vertical-align: top;\n",
       "    }\n",
       "\n",
       "    .dataframe thead th {\n",
       "        text-align: right;\n",
       "    }\n",
       "</style>\n",
       "<table border=\"1\" class=\"dataframe\">\n",
       "  <thead>\n",
       "    <tr style=\"text-align: right;\">\n",
       "      <th></th>\n",
       "      <th>word</th>\n",
       "      <th>okt_tag</th>\n",
       "      <th>count</th>\n",
       "    </tr>\n",
       "  </thead>\n",
       "  <tbody>\n",
       "    <tr>\n",
       "      <th>0</th>\n",
       "      <td>다</td>\n",
       "      <td>Adverb</td>\n",
       "      <td>3945</td>\n",
       "    </tr>\n",
       "    <tr>\n",
       "      <th>1</th>\n",
       "      <td>많이</td>\n",
       "      <td>Adverb</td>\n",
       "      <td>426</td>\n",
       "    </tr>\n",
       "    <tr>\n",
       "      <th>2</th>\n",
       "      <td>한</td>\n",
       "      <td>Verb</td>\n",
       "      <td>274</td>\n",
       "    </tr>\n",
       "    <tr>\n",
       "      <th>3</th>\n",
       "      <td>본</td>\n",
       "      <td>Verb</td>\n",
       "      <td>94</td>\n",
       "    </tr>\n",
       "    <tr>\n",
       "      <th>4</th>\n",
       "      <td>흔히</td>\n",
       "      <td>Adjective</td>\n",
       "      <td>87</td>\n",
       "    </tr>\n",
       "    <tr>\n",
       "      <th>5</th>\n",
       "      <td>푸</td>\n",
       "      <td>Verb</td>\n",
       "      <td>59</td>\n",
       "    </tr>\n",
       "    <tr>\n",
       "      <th>6</th>\n",
       "      <td>한</td>\n",
       "      <td>Josa</td>\n",
       "      <td>51</td>\n",
       "    </tr>\n",
       "    <tr>\n",
       "      <th>7</th>\n",
       "      <td>그렇게</td>\n",
       "      <td>Adverb</td>\n",
       "      <td>49</td>\n",
       "    </tr>\n",
       "    <tr>\n",
       "      <th>8</th>\n",
       "      <td>에서</td>\n",
       "      <td>Josa</td>\n",
       "      <td>26</td>\n",
       "    </tr>\n",
       "    <tr>\n",
       "      <th>9</th>\n",
       "      <td>열심히</td>\n",
       "      <td>Adverb</td>\n",
       "      <td>24</td>\n",
       "    </tr>\n",
       "  </tbody>\n",
       "</table>\n",
       "</div>"
      ],
      "text/plain": [
       "  word    okt_tag  count\n",
       "0    다     Adverb   3945\n",
       "1   많이     Adverb    426\n",
       "2    한       Verb    274\n",
       "3    본       Verb     94\n",
       "4   흔히  Adjective     87\n",
       "5    푸       Verb     59\n",
       "6    한       Josa     51\n",
       "7  그렇게     Adverb     49\n",
       "8   에서       Josa     26\n",
       "9  열심히     Adverb     24"
      ]
     },
     "execution_count": 19,
     "metadata": {},
     "output_type": "execute_result"
    }
   ],
   "source": [
    "plusdeul.head(10)"
   ]
  },
  {
   "cell_type": "code",
   "execution_count": 35,
   "metadata": {},
   "outputs": [
    {
     "data": {
      "image/png": "[encoded data removed]",
      "text/plain": [
       "<Figure size 640x480 with 1 Axes>"
      ]
     },
     "metadata": {},
     "output_type": "display_data"
    }
   ],
   "source": [
    "#token\n",
    "tag_count = plusdeul.groupby('okt_tag').sum(count)\n",
    "plt.xticks(rotation=45, fontsize=10)\n",
    "plt.title('Token')\n",
    "sns.barplot(x = 'okt_tag', y = 'count', data = tag_count)\n",
    "plt.savefig('token.png')"
   ]
  },
  {
   "cell_type": "code",
   "execution_count": 36,
   "metadata": {},
   "outputs": [
    {
     "data": {
      "image/png": "[encoded data removed]",
      "text/plain": [
       "<Figure size 640x480 with 1 Axes>"
      ]
     },
     "metadata": {},
     "output_type": "display_data"
    }
   ],
   "source": [
    "#type\n",
    "tag_count = plusdeul.groupby('okt_tag').count()\n",
    "plt.xticks(rotation=45, fontsize=10)\n",
    "plt.title('Type')\n",
    "sns.barplot(x = 'okt_tag', y = 'count', data = tag_count)\n",
    "plt.savefig('type.png')"
   ]
  },
  {
   "cell_type": "code",
   "execution_count": 38,
   "metadata": {},
   "outputs": [
    {
     "data": {
      "text/plain": [
       "68.88423258250393"
      ]
     },
     "execution_count": 38,
     "metadata": {},
     "output_type": "execute_result"
    }
   ],
   "source": [
    "\n",
    "#다들의 빈도\n",
    "plusdeul['count'][0] / sum(plusdeul['count']) * 100\n"
   ]
  },
  {
   "cell_type": "code",
   "execution_count": 39,
   "metadata": {},
   "outputs": [
    {
     "data": {
      "text/plain": [
       "76.32268203247774"
      ]
     },
     "execution_count": 39,
     "metadata": {},
     "output_type": "execute_result"
    }
   ],
   "source": [
    "#다들 + 많이의 빈도\n",
    "(plusdeul['count'][0] + plusdeul['count'][1]) / sum(plusdeul['count']) * 100"
   ]
  },
  {
   "cell_type": "markdown",
   "metadata": {},
   "source": [
    "# 주어"
   ]
  },
  {
   "cell_type": "code",
   "execution_count": 11,
   "metadata": {},
   "outputs": [],
   "source": [
    "# 주격조사 앞에 나타난 단어만을 수집\n",
    "list_JKS= []\n",
    "for i, tag in enumerate(utterances_deul2['tagger_kkama']):\n",
    "    for j ,word in enumerate(tag):\n",
    "        if 'JKS' in word:\n",
    "            list_JKS.append(tag[j-1])"
   ]
  },
  {
   "cell_type": "code",
   "execution_count": 12,
   "metadata": {},
   "outputs": [],
   "source": [
    "df_JKS = pd.DataFrame.from_dict(Counter(list_JKS), orient='index').reset_index()\n",
    "df_JKS = df_JKS.sort_values(0, ascending=False)\n",
    "df_JKS.reset_index(drop=True, inplace=True)\n",
    "df_JKS.columns = ['word', 'count']"
   ]
  },
  {
   "cell_type": "code",
   "execution_count": null,
   "metadata": {},
   "outputs": [
    {
     "data": {
      "text/html": [
       "<div>\n",
       "<style scoped>\n",
       "    .dataframe tbody tr th:only-of-type {\n",
       "        vertical-align: middle;\n",
       "    }\n",
       "\n",
       "    .dataframe tbody tr th {\n",
       "        vertical-align: top;\n",
       "    }\n",
       "\n",
       "    .dataframe thead th {\n",
       "        text-align: right;\n",
       "    }\n",
       "</style>\n",
       "<table border=\"1\" class=\"dataframe\">\n",
       "  <thead>\n",
       "    <tr style=\"text-align: right;\">\n",
       "      <th></th>\n",
       "      <th>word</th>\n",
       "      <th>count</th>\n",
       "    </tr>\n",
       "  </thead>\n",
       "  <tbody>\n",
       "    <tr>\n",
       "      <th>0</th>\n",
       "      <td>들/XSN</td>\n",
       "      <td>590</td>\n",
       "    </tr>\n",
       "    <tr>\n",
       "      <th>1</th>\n",
       "      <td>것/NNB</td>\n",
       "      <td>417</td>\n",
       "    </tr>\n",
       "    <tr>\n",
       "      <th>2</th>\n",
       "      <td>우리/NP</td>\n",
       "      <td>219</td>\n",
       "    </tr>\n",
       "    <tr>\n",
       "      <th>3</th>\n",
       "      <td>이것/NP</td>\n",
       "      <td>172</td>\n",
       "    </tr>\n",
       "    <tr>\n",
       "      <th>4</th>\n",
       "      <td>문제/NNG</td>\n",
       "      <td>75</td>\n",
       "    </tr>\n",
       "    <tr>\n",
       "      <th>5</th>\n",
       "      <td>생각/NNG</td>\n",
       "      <td>75</td>\n",
       "    </tr>\n",
       "    <tr>\n",
       "      <th>6</th>\n",
       "      <td>기/ETN</td>\n",
       "      <td>63</td>\n",
       "    </tr>\n",
       "    <tr>\n",
       "      <th>7</th>\n",
       "      <td>저/NP</td>\n",
       "      <td>60</td>\n",
       "    </tr>\n",
       "    <tr>\n",
       "      <th>8</th>\n",
       "      <td>저희/NP</td>\n",
       "      <td>60</td>\n",
       "    </tr>\n",
       "    <tr>\n",
       "      <th>9</th>\n",
       "      <td>님/XSN</td>\n",
       "      <td>51</td>\n",
       "    </tr>\n",
       "  </tbody>\n",
       "</table>\n",
       "</div>"
      ],
      "text/plain": [
       "     word  count\n",
       "0   들/XSN    590\n",
       "1   것/NNB    417\n",
       "2   우리/NP    219\n",
       "3   이것/NP    172\n",
       "4  문제/NNG     75\n",
       "5  생각/NNG     75\n",
       "6   기/ETN     63\n",
       "7    저/NP     60\n",
       "8   저희/NP     60\n",
       "9   님/XSN     51"
      ]
     },
     "execution_count": 42,
     "metadata": {},
     "output_type": "execute_result"
    }
   ],
   "source": [
    "df_JKS.head(10)"
   ]
  },
  {
   "cell_type": "code",
   "execution_count": 15,
   "metadata": {},
   "outputs": [
    {
     "data": {
      "text/plain": [
       "13.294276701216765"
      ]
     },
     "execution_count": 15,
     "metadata": {},
     "output_type": "execute_result"
    }
   ],
   "source": [
    "\n",
    "# 주어에 들이 나타난 빈도\n",
    "df_JKS['count'][0] / sum(df_JKS['count']) * 100\n"
   ]
  },
  {
   "cell_type": "code",
   "execution_count": 14,
   "metadata": {},
   "outputs": [
    {
     "data": {
      "text/plain": [
       "19.580892293826047"
      ]
     },
     "execution_count": 14,
     "metadata": {},
     "output_type": "execute_result"
    }
   ],
   "source": [
    "# 주어에 들, 너희, 우리가 나타난 빈도\n",
    "(df_JKS['count'][0]+df_JKS['count'][2]+df_JKS['count'][7]) / sum(df_JKS['count']) * 100\n"
   ]
  },
  {
   "cell_type": "markdown",
   "metadata": {},
   "source": [
    "# 종결 표현"
   ]
  },
  {
   "cell_type": "code",
   "execution_count": 35,
   "metadata": {},
   "outputs": [],
   "source": [
    "#종결표현의 경우 EF로 분류됨을 이용해 종결표현만 추출\n",
    "list_EFs = []\n",
    "for tag in utterances_deul2['tagger_kkama']:\n",
    "    for word in tag:\n",
    "        if 'EF' in word:\n",
    "            list_EFs.append(word)"
   ]
  },
  {
   "cell_type": "code",
   "execution_count": 36,
   "metadata": {},
   "outputs": [],
   "source": [
    "efs = pd.DataFrame(list_EFs)\n",
    "efs.columns = ['word']\n",
    "df_EFs = pd.DataFrame.from_dict(Counter(list_EFs), orient='index').sort_values(0, ascending=False).reset_index()\n",
    "df_EFs.columns = ['word', 'count']"
   ]
  },
  {
   "cell_type": "code",
   "execution_count": 37,
   "metadata": {},
   "outputs": [],
   "source": [
    "# 종결표현에 실현된 상대높임법에 따라 공손성, 격식성을 분류\n",
    "# 하십시오와 하오체 : 공손성+ 격식성+\n",
    "# 하게와 해라체 : 공손성- 격식성+\n",
    "# 해요체 : 공손성 + 격식성 -\n",
    "# 해체 : 공손성 - 격식성-\n",
    "list_pol = []\n",
    "list_for = []\n",
    "for word in df_EFs['word']:\n",
    "    if '습' in word or 'ㅂ' in word or '오' in word or '소' in word:\n",
    "        list_pol.append('pol')\n",
    "        list_for.append('for')\n",
    "    elif '요' in word or '죠' in word:\n",
    "        list_pol.append('pol')\n",
    "        list_for.append('inf')\n",
    "    elif '다고' in word or '라고' in word:\n",
    "        list_pol.append('quo')\n",
    "        list_for.append('quo')\n",
    "    elif any(keyword in word for keyword in ['라', '가', '냐', '리', '구나', '다', '자', '네']):\n",
    "        list_pol.append('imp')\n",
    "        list_for.append('for')\n",
    "    else:\n",
    "        list_pol.append('imp')\n",
    "        list_for.append('inf')\n",
    "\n",
    "df_EFs['formality'] = list_for\n",
    "df_EFs['politeness'] = list_pol"
   ]
  },
  {
   "cell_type": "code",
   "execution_count": 7,
   "metadata": {},
   "outputs": [],
   "source": [
    "ef = pd.merge(efs, df_EFs, on= 'word')"
   ]
  },
  {
   "cell_type": "code",
   "execution_count": 60,
   "metadata": {},
   "outputs": [
    {
     "data": {
      "image/png": "[encoded data removed]",
      "text/plain": [
       "<Figure size 640x480 with 1 Axes>"
      ]
     },
     "metadata": {},
     "output_type": "display_data"
    }
   ],
   "source": [
    "pol1_sum = ef.groupby('politeness').count()\n",
    "plt.title('Politeness')\n",
    "sns.barplot(x = 'politeness', y = 'count', data = pol1_sum)\n",
    "plt.savefig('image/pol.png')\n"
   ]
  },
  {
   "cell_type": "code",
   "execution_count": 12,
   "metadata": {},
   "outputs": [
    {
     "data": {
      "image/png": "[encoded data removed]",
      "text/plain": [
       "<Figure size 640x480 with 1 Axes>"
      ]
     },
     "metadata": {},
     "output_type": "display_data"
    }
   ],
   "source": [
    "for1_sum = ef.groupby('formality').count()\n",
    "plt.title('Formality')\n",
    "sns.barplot(x = 'formality', y = 'count', data = for1_sum)\n",
    "plt.savefig('image/for.png')\n",
    "            "
   ]
  },
  {
   "cell_type": "markdown",
   "metadata": {},
   "source": []
  },
  {
   "cell_type": "code",
   "execution_count": 10,
   "metadata": {},
   "outputs": [],
   "source": [
    "index_sun = []\n",
    "for i, tag in enumerate(utterances_deul2['tagger_kkama']):\n",
    "    for word in tag:\n",
    "        if word.endswith('EPH') or word.endswith('ETP') or word.endswith('EFR'):\n",
    "            index_sun.append(i)"
   ]
  },
  {
   "cell_type": "code",
   "execution_count": 115,
   "metadata": {},
   "outputs": [
    {
     "data": {
      "text/plain": [
       "0.20815602836879432"
      ]
     },
     "execution_count": 115,
     "metadata": {},
     "output_type": "execute_result"
    }
   ],
   "source": [
    "len(index_sun) / len(utterances_deul2.index)\n",
    "# 간접 복수 표지 -들 중 20%가 주체 높임 선어말 어미 -시와 결합"
   ]
  },
  {
   "cell_type": "markdown",
   "metadata": {},
   "source": [
    "# 다들"
   ]
  },
  {
   "cell_type": "code",
   "execution_count": null,
   "metadata": {},
   "outputs": [],
   "source": [
    "utterances2 = utterances.sample(2000000)\n",
    "#데이터가 너무 크기에 2000000개만 샘플링함"
   ]
  },
  {
   "cell_type": "code",
   "execution_count": null,
   "metadata": {},
   "outputs": [],
   "source": [
    "corpus = utterances2['form'].apply(str.split)\n",
    "print(corpus[:5])"
   ]
  },
  {
   "cell_type": "code",
   "execution_count": null,
   "metadata": {},
   "outputs": [],
   "source": [
    "model = Word2Vec(\n",
    "    sg=1, \n",
    "    min_count=5,\n",
    "    vector_size=100, \n",
    "    window=6, \n",
    "    negative=5,\n",
    ")"
   ]
  },
  {
   "cell_type": "code",
   "execution_count": null,
   "metadata": {},
   "outputs": [],
   "source": [
    "model.build_vocab(corpus_iterable=tqdm(corpus))"
   ]
  },
  {
   "cell_type": "code",
   "execution_count": null,
   "metadata": {},
   "outputs": [],
   "source": [
    "model.train(\n",
    "    corpus_iterable=corpus,\n",
    "    total_examples=model.corpus_count, # the number of sentences\n",
    "    epochs=5 #코퍼스를 다섯 번 읽어라\n",
    ")"
   ]
  },
  {
   "cell_type": "code",
   "execution_count": null,
   "metadata": {},
   "outputs": [],
   "source": [
    "model.save('../models/word2vec-dadeul-online')"
   ]
  },
  {
   "cell_type": "code",
   "execution_count": 118,
   "metadata": {},
   "outputs": [],
   "source": [
    "MODEL_PATH = '../models/word2vec-dadeul-online'\n",
    "\n",
    "model = Word2Vec.load(MODEL_PATH)"
   ]
  },
  {
   "cell_type": "code",
   "execution_count": 119,
   "metadata": {},
   "outputs": [
    {
     "data": {
      "text/plain": [
       "[('많이들', 0.7172414660453796),\n",
       " ('모두들', 0.6949450969696045),\n",
       " ('계시더라고요.', 0.6867292523384094),\n",
       " ('시대라고', 0.6835435032844543),\n",
       " ('교수님도', 0.6825608611106873),\n",
       " ('교수님들도', 0.6750579476356506),\n",
       " ('많으셔서', 0.6732888221740723),\n",
       " ('그분도', 0.6703954339027405),\n",
       " ('어르신들이', 0.6677936315536499),\n",
       " ('어머님도', 0.6653468608856201)]"
      ]
     },
     "execution_count": 119,
     "metadata": {},
     "output_type": "execute_result"
    }
   ],
   "source": [
    "#다들과 유사하게 사용되는 단어 \n",
    "model.wv.most_similar(['다들'])"
   ]
  },
  {
   "cell_type": "markdown",
   "metadata": {},
   "source": [
    "# 배분 부사\n"
   ]
  },
  {
   "cell_type": "code",
   "execution_count": 26,
   "metadata": {},
   "outputs": [],
   "source": [
    "deuldis =  utterances_deul2[utterances_deul2['sentences'].str.contains(r'각각|각자|마다|끼리|씩')]"
   ]
  },
  {
   "cell_type": "code",
   "execution_count": 27,
   "metadata": {},
   "outputs": [
    {
     "data": {
      "text/plain": [
       "2.8014184397163118"
      ]
     },
     "execution_count": 27,
     "metadata": {},
     "output_type": "execute_result"
    }
   ],
   "source": [
    "#배분부사와 들이 함께 나타난 빈도\n",
    "len(deuldis)/ len(utterances_deul2) *100"
   ]
  },
  {
   "cell_type": "markdown",
   "metadata": {},
   "source": [
    "# 집단성 제거"
   ]
  },
  {
   "cell_type": "code",
   "execution_count": 28,
   "metadata": {},
   "outputs": [],
   "source": [
    "# 주어에 집단성이 나타난 경우와, 직접결합하는 단어에 나타난 경우 모두 제거\n",
    "noplu =  utterances_deul2[utterances_deul2['sentences'].str.contains(r'다들') == False]\n",
    "noplu = noplu[noplu['sentences'].str.contains(r'많이들') == False]\n",
    "noplu.reset_index(drop=True, inplace=True)\n"
   ]
  },
  {
   "cell_type": "code",
   "execution_count": 29,
   "metadata": {},
   "outputs": [],
   "source": [
    "for i, tag in enumerate(noplu['tagger_okt']):\n",
    "    if '들/Suffix' in tag:\n",
    "        noplu.drop(i,axis=0, inplace=True)"
   ]
  },
  {
   "cell_type": "code",
   "execution_count": 30,
   "metadata": {},
   "outputs": [],
   "source": [
    "list_noplu = []\n",
    "for tag in noplu['tagger_kkama']:\n",
    "    for word in tag:\n",
    "        if 'EF' in word:\n",
    "            list_noplu.append(word)"
   ]
  },
  {
   "cell_type": "code",
   "execution_count": 33,
   "metadata": {},
   "outputs": [],
   "source": [
    "df_ef = pd.DataFrame(list_noplu)\n",
    "df_ef.columns = ['word']"
   ]
  },
  {
   "cell_type": "code",
   "execution_count": 38,
   "metadata": {},
   "outputs": [],
   "source": [
    "noef = pd.merge(df_ef, df_EFs, on= 'word')"
   ]
  },
  {
   "cell_type": "code",
   "execution_count": 39,
   "metadata": {},
   "outputs": [
    {
     "data": {
      "image/png": "[encoded data removed]",
      "text/plain": [
       "<Figure size 640x480 with 1 Axes>"
      ]
     },
     "metadata": {},
     "output_type": "display_data"
    }
   ],
   "source": [
    "nopol_sum = noef.groupby('politeness').count()\n",
    "plt.title('Politeness')\n",
    "sns.barplot(x = 'politeness', y = 'count', data = nopol_sum)\n",
    "plt.savefig('image/nopol.png')"
   ]
  },
  {
   "cell_type": "code",
   "execution_count": 56,
   "metadata": {},
   "outputs": [
    {
     "data": {
      "image/png": "[encoded data removed]",
      "text/plain": [
       "<Figure size 640x480 with 1 Axes>"
      ]
     },
     "metadata": {},
     "output_type": "display_data"
    }
   ],
   "source": [
    "nofor_sum = noef.groupby('formality').count()\n",
    "plt.title('Fromality')\n",
    "sns.barplot(x = 'formality', y = 'count', data = nofor_sum)\n",
    "plt.savefig('image/nofor.png')"
   ]
  },
  {
   "cell_type": "code",
   "execution_count": null,
   "metadata": {},
   "outputs": [],
   "source": []
  },
  {
   "cell_type": "code",
   "execution_count": null,
   "metadata": {},
   "outputs": [],
   "source": []
  }
 ],
 "metadata": {
  "kernelspec": {
   "display_name": "Python 3",
   "language": "python",
   "name": "python3"
  },
  "language_info": {
   "codemirror_mode": {
    "name": "ipython",
    "version": 3
   },
   "file_extension": ".py",
   "mimetype": "text/x-python",
   "name": "python",
   "nbconvert_exporter": "python",
   "pygments_lexer": "ipython3",
   "version": "3.11.6"
  }
 },
 "nbformat": 4,
 "nbformat_minor": 2
}
