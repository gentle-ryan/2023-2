{
 "cells": [
  {
   "cell_type": "markdown",
   "metadata": {},
   "source": [
    "# 오늘의 목표\n",
    "\n",
    "1. 표준국어대사전으로 만든 데이터프레임에서 명사 단어들만을 추출할 수 있다.\n",
    "2. 한글로 표기된 단어가 주어졌을 때 각 음절의 유형을 추출할 수 있다.\n",
    "    "
   ]
  },
  {
   "cell_type": "markdown",
   "metadata": {},
   "source": [
    "## 예시\n",
    "\n",
    "+ '왜냐하면' -> ('GV', 'CGV', 'CV', 'CGVC')"
   ]
  },
  {
   "cell_type": "markdown",
   "metadata": {},
   "source": [
    "# 1. 데이터 살펴보기"
   ]
  },
  {
   "cell_type": "markdown",
   "metadata": {},
   "source": [
    "## 1.1. 데이터프레임 가져오기"
   ]
  },
  {
   "cell_type": "code",
   "execution_count": 51,
   "metadata": {},
   "outputs": [],
   "source": [
    "import pandas as pd"
   ]
  },
  {
   "cell_type": "code",
   "execution_count": 2,
   "metadata": {},
   "outputs": [],
   "source": [
    "csvfilename = '../data/stdict_xml_20231105.csv'"
   ]
  },
  {
   "cell_type": "code",
   "execution_count": 3,
   "metadata": {},
   "outputs": [
    {
     "data": {
      "text/html": [
       "<div>\n",
       "<style scoped>\n",
       "    .dataframe tbody tr th:only-of-type {\n",
       "        vertical-align: middle;\n",
       "    }\n",
       "\n",
       "    .dataframe tbody tr th {\n",
       "        vertical-align: top;\n",
       "    }\n",
       "\n",
       "    .dataframe thead th {\n",
       "        text-align: right;\n",
       "    }\n",
       "</style>\n",
       "<table border=\"1\" class=\"dataframe\">\n",
       "  <thead>\n",
       "    <tr style=\"text-align: right;\">\n",
       "      <th></th>\n",
       "      <th>word</th>\n",
       "      <th>word_unit</th>\n",
       "      <th>word_type</th>\n",
       "      <th>pos</th>\n",
       "    </tr>\n",
       "    <tr>\n",
       "      <th>target_code</th>\n",
       "      <th></th>\n",
       "      <th></th>\n",
       "      <th></th>\n",
       "      <th></th>\n",
       "    </tr>\n",
       "  </thead>\n",
       "  <tbody>\n",
       "    <tr>\n",
       "      <th>1</th>\n",
       "      <td>가경-지</td>\n",
       "      <td>단어</td>\n",
       "      <td>한자어</td>\n",
       "      <td>명사</td>\n",
       "    </tr>\n",
       "    <tr>\n",
       "      <th>2</th>\n",
       "      <td>가계-하다01</td>\n",
       "      <td>단어</td>\n",
       "      <td>혼종어</td>\n",
       "      <td>동사</td>\n",
       "    </tr>\n",
       "    <tr>\n",
       "      <th>3</th>\n",
       "      <td>가계02</td>\n",
       "      <td>단어</td>\n",
       "      <td>한자어</td>\n",
       "      <td>명사</td>\n",
       "    </tr>\n",
       "    <tr>\n",
       "      <th>4</th>\n",
       "      <td>가계-되다</td>\n",
       "      <td>단어</td>\n",
       "      <td>혼종어</td>\n",
       "      <td>동사</td>\n",
       "    </tr>\n",
       "    <tr>\n",
       "      <th>5</th>\n",
       "      <td>가계-하다03</td>\n",
       "      <td>단어</td>\n",
       "      <td>혼종어</td>\n",
       "      <td>동사</td>\n",
       "    </tr>\n",
       "    <tr>\n",
       "      <th>...</th>\n",
       "      <td>...</td>\n",
       "      <td>...</td>\n",
       "      <td>...</td>\n",
       "      <td>...</td>\n",
       "    </tr>\n",
       "    <tr>\n",
       "      <th>534435</th>\n",
       "      <td>지체^장애</td>\n",
       "      <td>구</td>\n",
       "      <td>한자어</td>\n",
       "      <td>품사 없음</td>\n",
       "    </tr>\n",
       "    <tr>\n",
       "      <th>534436</th>\n",
       "      <td>신체^장애인</td>\n",
       "      <td>구</td>\n",
       "      <td>한자어</td>\n",
       "      <td>품사 없음</td>\n",
       "    </tr>\n",
       "    <tr>\n",
       "      <th>534437</th>\n",
       "      <td>지각06</td>\n",
       "      <td>단어</td>\n",
       "      <td>한자어</td>\n",
       "      <td>명사</td>\n",
       "    </tr>\n",
       "    <tr>\n",
       "      <th>534438</th>\n",
       "      <td>대마^난류</td>\n",
       "      <td>단어</td>\n",
       "      <td>한자어</td>\n",
       "      <td>품사 없음</td>\n",
       "    </tr>\n",
       "    <tr>\n",
       "      <th>534439</th>\n",
       "      <td>노동조합^총연맹</td>\n",
       "      <td>단어</td>\n",
       "      <td>한자어</td>\n",
       "      <td>품사 없음</td>\n",
       "    </tr>\n",
       "  </tbody>\n",
       "</table>\n",
       "<p>434870 rows × 4 columns</p>\n",
       "</div>"
      ],
      "text/plain": [
       "                 word word_unit word_type    pos\n",
       "target_code                                     \n",
       "1                가경-지        단어       한자어     명사\n",
       "2             가계-하다01        단어       혼종어     동사\n",
       "3                가계02        단어       한자어     명사\n",
       "4               가계-되다        단어       혼종어     동사\n",
       "5             가계-하다03        단어       혼종어     동사\n",
       "...               ...       ...       ...    ...\n",
       "534435          지체^장애         구       한자어  품사 없음\n",
       "534436         신체^장애인         구       한자어  품사 없음\n",
       "534437           지각06        단어       한자어     명사\n",
       "534438          대마^난류        단어       한자어  품사 없음\n",
       "534439       노동조합^총연맹        단어       한자어  품사 없음\n",
       "\n",
       "[434870 rows x 4 columns]"
      ]
     },
     "execution_count": 3,
     "metadata": {},
     "output_type": "execute_result"
    }
   ],
   "source": [
    "df = pd.read_csv(csvfilename, index_col='target_code')\n",
    "df"
   ]
  },
  {
   "cell_type": "markdown",
   "metadata": {},
   "source": [
    "## 1.2. 데이터 요약하기"
   ]
  },
  {
   "cell_type": "code",
   "execution_count": 4,
   "metadata": {},
   "outputs": [
    {
     "data": {
      "text/plain": [
       "word_unit\n",
       "단어     360629\n",
       "구       62918\n",
       "속담       7436\n",
       "관용구      3887\n",
       "Name: count, dtype: int64"
      ]
     },
     "execution_count": 4,
     "metadata": {},
     "output_type": "execute_result"
    }
   ],
   "source": [
    "# word_unit 칼럼의 값들을 세기\n",
    "df['word_unit'].value_counts()"
   ]
  },
  {
   "cell_type": "code",
   "execution_count": 5,
   "metadata": {},
   "outputs": [
    {
     "data": {
      "text/plain": [
       "word_type\n",
       "한자어    235445\n",
       "혼종어     88548\n",
       "고유어     75604\n",
       "외래어     23950\n",
       "Name: count, dtype: int64"
      ]
     },
     "execution_count": 5,
     "metadata": {},
     "output_type": "execute_result"
    }
   ],
   "source": [
    "# word_type 칼럼의 값들을 세기\n",
    "df['word_type'].value_counts()"
   ]
  },
  {
   "cell_type": "code",
   "execution_count": 6,
   "metadata": {},
   "outputs": [
    {
     "data": {
      "text/plain": [
       "pos\n",
       "명사        268627\n",
       "품사 없음      70562\n",
       "동사         56238\n",
       "형용사        12749\n",
       "부사         11983\n",
       "구          11323\n",
       "어미           808\n",
       "의존 명사        737\n",
       "접사           533\n",
       "감탄사          525\n",
       "대명사          272\n",
       "조사           174\n",
       "수사           163\n",
       "관형사          157\n",
       "보조 형용사        11\n",
       "보조 동사          8\n",
       "Name: count, dtype: int64"
      ]
     },
     "execution_count": 6,
     "metadata": {},
     "output_type": "execute_result"
    }
   ],
   "source": [
    "df['pos'].value_counts()"
   ]
  },
  {
   "cell_type": "markdown",
   "metadata": {},
   "source": [
    "## 1.3. 데이터의 범위를 선택하기"
   ]
  },
  {
   "cell_type": "code",
   "execution_count": 7,
   "metadata": {},
   "outputs": [],
   "source": [
    "from collections import Counter\n",
    "import re #정규표현식"
   ]
  },
  {
   "cell_type": "code",
   "execution_count": 8,
   "metadata": {},
   "outputs": [
    {
     "name": "stdout",
     "output_type": "stream",
     "text": [
      "[' ', '(', ')', ',', '.', '/', '0', '1', '2', '3', '4', '5', '6', '7', '8', '9', '[', ']', '^', '\\ue13d', '\\ue20c', '\\uf537', '賈', '老', '綠', '復', '不', '良', '龍', '六', '利', '離', '狀']\n"
     ]
    }
   ],
   "source": [
    "# 데이터프레임의 word 칼럼에서 na 값들을 제외하고 str 자료형으로 설정하기\n",
    "words = df['word'].dropna().astype('str') # EDIT THIS LINE\n",
    "\n",
    "# 단어 목록에서 한글이 아닌 문자들이 출현한 횟수를 세기\n",
    "nonhangul_cnt = Counter(re.findall(r'[^가-힣ㄱ-하-ㅣ]', ''.join(words))) # EDIT THIS LINE\n",
    "print(sorted(nonhangul_cnt))"
   ]
  },
  {
   "cell_type": "markdown",
   "metadata": {},
   "source": [
    "위에서 살펴볼 수 있듯이 한글이 아닌 문자는 특수문자, 숫자, 한자가 대부분이지만, 여기 속하지 않는 수상한 문자도 있다."
   ]
  },
  {
   "cell_type": "code",
   "execution_count": 9,
   "metadata": {},
   "outputs": [
    {
     "name": "stdout",
     "output_type": "stream",
     "text": [
      "\n"
     ]
    }
   ],
   "source": [
    "spy = '\\ue13d'\n",
    "print(spy)"
   ]
  },
  {
   "cell_type": "markdown",
   "metadata": {},
   "source": [
    "이 문자는 HWP 워드프로세서에서 함초롱 글꼴로 볼 수 있다."
   ]
  },
  {
   "cell_type": "markdown",
   "metadata": {},
   "source": [
    "# 2. 한글 음절 분석하기"
   ]
  },
  {
   "cell_type": "markdown",
   "metadata": {},
   "source": [
    "## 2.1. 음절을 자모로 분해하기"
   ]
  },
  {
   "cell_type": "code",
   "execution_count": 10,
   "metadata": {},
   "outputs": [],
   "source": [
    "from unicodedata import name, normalize"
   ]
  },
  {
   "cell_type": "code",
   "execution_count": 11,
   "metadata": {},
   "outputs": [],
   "source": [
    "def decompose(str):\n",
    "  # 문자열을 NFKD 방식으로 정규화하기\n",
    "\n",
    "  return normalize('NFKD', str)"
   ]
  },
  {
   "cell_type": "code",
   "execution_count": 12,
   "metadata": {},
   "outputs": [
    {
     "name": "stdout",
     "output_type": "stream",
     "text": [
      "ㅇ HANGUL LETTER IEUNG\n",
      "ᄋ HANGUL CHOSEONG IEUNG\n",
      "ᅳ HANGUL JUNGSEONG EU\n",
      "ᆼ HANGUL JONGSEONG IEUNG\n"
     ]
    }
   ],
   "source": [
    "ng0 = 'ㅇ'\n",
    "ng1 = decompose('응')\n",
    "for ng in (ng0, ng1):\n",
    "  for char in ng:\n",
    "    print(char, name(char))"
   ]
  },
  {
   "cell_type": "code",
   "execution_count": 13,
   "metadata": {},
   "outputs": [],
   "source": [
    "def print_jamo_name(syl:str):\n",
    "  print(syl, name(syl))\n",
    "  for jamo in decompose(syl):\n",
    "    print(jamo, name(jamo))"
   ]
  },
  {
   "cell_type": "code",
   "execution_count": 14,
   "metadata": {},
   "outputs": [],
   "source": [
    "def romanize(hangul):\n",
    "  # 한글 문자의 로마자 표기를 얻기\n",
    "  hname = name(hangul)\n",
    "  assert hname.startswith('HANGUL')\n",
    "  return hname.split()[-1]"
   ]
  },
  {
   "cell_type": "code",
   "execution_count": 15,
   "metadata": {},
   "outputs": [
    {
     "name": "stdout",
     "output_type": "stream",
     "text": [
      "KIYEOK\n"
     ]
    }
   ],
   "source": [
    "print(romanize('ㄱ')) #C"
   ]
  },
  {
   "cell_type": "code",
   "execution_count": 16,
   "metadata": {},
   "outputs": [
    {
     "name": "stdout",
     "output_type": "stream",
     "text": [
      "YI\n"
     ]
    }
   ],
   "source": [
    "print(romanize('ㅢ')) #GV (VG)"
   ]
  },
  {
   "cell_type": "code",
   "execution_count": 17,
   "metadata": {},
   "outputs": [
    {
     "name": "stdout",
     "output_type": "stream",
     "text": [
      "OE\n"
     ]
    }
   ],
   "source": [
    "print(romanize('ㅚ')) #GV"
   ]
  },
  {
   "cell_type": "code",
   "execution_count": 18,
   "metadata": {},
   "outputs": [
    {
     "name": "stdout",
     "output_type": "stream",
     "text": [
      "WI\n"
     ]
    }
   ],
   "source": [
    "print(romanize('ㅟ')) #GV"
   ]
  },
  {
   "cell_type": "markdown",
   "metadata": {},
   "source": [
    "## 2.2. 음절 유형 추출하기"
   ]
  },
  {
   "cell_type": "code",
   "execution_count": 19,
   "metadata": {},
   "outputs": [],
   "source": [
    "import re"
   ]
  },
  {
   "cell_type": "code",
   "execution_count": 20,
   "metadata": {},
   "outputs": [],
   "source": [
    "def is_letter(jamo):\n",
    "    # 한글 문자가 LETTER 유형이면 True, 그렇지 않으면 False를 반환하기\n",
    "    jname = name(jamo)\n",
    "    return jname.startswith('HANGUL LETTER')\n",
    "\n",
    "def is_choseong(jamo):\n",
    "    # 한글 문자가 초성 유형이면 True, 그렇지 않으면 False를 반환하기'\n",
    "    jname = name(jamo)\n",
    "    return jname.startswith('HANGUL CHOSUNG')\n",
    "\n",
    "def is_jungseong(jamo):\n",
    "    # 한글 문자가 중성 유형이면 True, 그렇지 않으면 False를 반환하기\n",
    "    jname = name(jamo)\n",
    "    return jname.startswith('HANGUL JUNGSEONG')\n",
    "\n",
    "def is_jongseong(jamo):\n",
    "    # 한글 문자가 종성 유형이면 True, 그렇지 않으면 False를 반환하기\n",
    "    jname = name(jamo)\n",
    "    return jname.startswith('HANGUL JONGSUNG')"
   ]
  },
  {
   "cell_type": "code",
   "execution_count": 21,
   "metadata": {},
   "outputs": [],
   "source": [
    "def get_onset_type(jamo):\n",
    "  # LETTER 혹은 초성 유형의 문자의 유형을 반환하기\n",
    "  # 자음 음가가 있으면 'C', 그렇지 않으면 ''를 반환하기\n",
    "  return '' if romanize(jamo) == 'IEUNG' else 'C'"
   ]
  },
  {
   "cell_type": "code",
   "execution_count": 22,
   "metadata": {},
   "outputs": [],
   "source": [
    "GLIDES = re.compile(r'^[WY]') # ^은 시작을 분명히 하기 위함"
   ]
  },
  {
   "cell_type": "code",
   "execution_count": 23,
   "metadata": {},
   "outputs": [],
   "source": [
    "def get_nucleus_type(jamo):\n",
    "  # LETTER 혹은 중성 유형의 문자의 유형을 반환하기\n",
    "  # 단모음이면 'V', 활음이 있으면 'GV'를 반환하기, ㅚ(oe)는 아무도 단모음으로 발음하지 않으므로 이중모음으로 처리\n",
    "  if GLIDES.search(romanize(jamo)) or romanize(jamo) == 'OE':\n",
    "    return 'GV'\n",
    "  else:\n",
    "    return 'V'"
   ]
  },
  {
   "cell_type": "code",
   "execution_count": 24,
   "metadata": {},
   "outputs": [],
   "source": [
    "def get_coda_type(jamo):\n",
    "  # LETTER 혹은 종성 유형의 문자의 유형을 반환하기\n",
    "  # 단자음이면 'C', 겹자음이면 'CC'를 반환하기\n",
    "  return 'CC' if '-' in romanize(jamo) else 'C'\n"
   ]
  },
  {
   "cell_type": "code",
   "execution_count": 25,
   "metadata": {},
   "outputs": [],
   "source": [
    "def is_composed_syllable(char):\n",
    "  # 주어진 문자가 한글 1음절이면 True, 그렇지 않으면 False를 반환하는 함수\n",
    "  try:\n",
    "    return name(char).startswith('HANGUL SYLLABLE')\n",
    "  except ValueError:\n",
    "    return False"
   ]
  },
  {
   "cell_type": "code",
   "execution_count": 26,
   "metadata": {},
   "outputs": [
    {
     "name": "stdout",
     "output_type": "stream",
     "text": [
      "True\n",
      "False\n"
     ]
    }
   ],
   "source": [
    "print(is_composed_syllable('앍'))\n",
    "print(is_composed_syllable('ㅇ'))"
   ]
  },
  {
   "cell_type": "code",
   "execution_count": 27,
   "metadata": {},
   "outputs": [
    {
     "name": "stdout",
     "output_type": "stream",
     "text": [
      "False\n"
     ]
    }
   ],
   "source": [
    "print(is_composed_syllable(spy))"
   ]
  },
  {
   "cell_type": "code",
   "execution_count": 28,
   "metadata": {},
   "outputs": [],
   "source": [
    "def is_syllable(strings):\n",
    "  '''\\\n",
    "    >>> is_syllable('꺍')\n",
    "    True\n",
    "    >>> is is_syllable('ㄲㅑㄹ')\n",
    "  '''\n",
    "  # 주어진 문자열로 한글 1음절을 구성할 수 있으면 True, 그렇지 않으면 False를 반환하는 함수\n",
    "  conjoined = normalize('NFKC', strings) #초성 중성 종성을 하나의 syllable로 만들기\n",
    "  return is_composed_syllable(conjoined)\n"
   ]
  },
  {
   "cell_type": "code",
   "execution_count": 29,
   "metadata": {},
   "outputs": [
    {
     "name": "stdout",
     "output_type": "stream",
     "text": [
      "False\n",
      "True\n",
      "True\n"
     ]
    }
   ],
   "source": [
    "print(is_syllable('ㅇ'))\n",
    "print(is_syllable('앍'))\n",
    "print(is_syllable(decompose('앍')))"
   ]
  },
  {
   "cell_type": "code",
   "execution_count": 30,
   "metadata": {},
   "outputs": [
    {
     "name": "stdout",
     "output_type": "stream",
     "text": [
      "False\n"
     ]
    }
   ],
   "source": [
    "print(is_syllable(spy))"
   ]
  },
  {
   "cell_type": "code",
   "execution_count": 31,
   "metadata": {},
   "outputs": [
    {
     "name": "stdout",
     "output_type": "stream",
     "text": [
      "ᄁ ᅣ ᆰ\n",
      "C\n"
     ]
    }
   ],
   "source": [
    "syl = '꺍'\n",
    "dec = decompose(syl) # C/J/J 초성/중성/종성\n",
    "onset, nucleus = (dec[0], dec[1]) # EDIT THIS LINE\n",
    "coda = dec[2:]  # EDIT THIS LINE\n",
    "print(onset, nucleus, coda)\n",
    "print(get_onset_type(onset))"
   ]
  },
  {
   "cell_type": "code",
   "execution_count": 34,
   "metadata": {},
   "outputs": [],
   "source": [
    "def get_syllable_types(string):\n",
    "    # 문자열을 받아서 각 한글 문자들의 음절 유형으로 이루어진 튜플을 반환하는 함수\n",
    "    return tuple(get_syllable_type(syl) for syl in string if is_syllable(syl))\n",
    "    "
   ]
  },
  {
   "cell_type": "code",
   "execution_count": 52,
   "metadata": {},
   "outputs": [],
   "source": [
    "def is_letter_syllable(strings):\n",
    "    #모든 글자가 HANGUL LETTER인 경우\n",
    "    output = ''\n",
    "    try:   \n",
    "        if all(is_letter(char) for char in strings):\n",
    "            if len(strings) >= 2:\n",
    "                onset, nucleus = strings[0:2]\n",
    "            if len(strings) >= 3:\n",
    "                coda = strings[2]\n",
    "                onset = to_choseong(onset)\n",
    "                nucleus = to_jungseong(nucleus)\n",
    "                output += onset + nucleus\n",
    "            if len(strings) >= 3:\n",
    "                coda = strings[2]\n",
    "                coda = to_jongseong(coda)\n",
    "                output += coda\n",
    "            return is_composed_syllable(normalize('NFKC', output))\n",
    "    except:\n",
    "        return False\n",
    "\n"
   ]
  },
  {
   "cell_type": "code",
   "execution_count": 35,
   "metadata": {},
   "outputs": [
    {
     "data": {
      "text/plain": [
       "('CGVCC', 'CVC')"
      ]
     },
     "execution_count": 35,
     "metadata": {},
     "output_type": "execute_result"
    }
   ],
   "source": [
    "get_syllable_types('얇은')"
   ]
  },
  {
   "cell_type": "markdown",
   "metadata": {},
   "source": [
    "# 3. 표준국어대사전 표제어 단어들의 음절 유형 추출하기"
   ]
  },
  {
   "cell_type": "code",
   "execution_count": 36,
   "metadata": {},
   "outputs": [
    {
     "data": {
      "text/html": [
       "<div>\n",
       "<style scoped>\n",
       "    .dataframe tbody tr th:only-of-type {\n",
       "        vertical-align: middle;\n",
       "    }\n",
       "\n",
       "    .dataframe tbody tr th {\n",
       "        vertical-align: top;\n",
       "    }\n",
       "\n",
       "    .dataframe thead th {\n",
       "        text-align: right;\n",
       "    }\n",
       "</style>\n",
       "<table border=\"1\" class=\"dataframe\">\n",
       "  <thead>\n",
       "    <tr style=\"text-align: right;\">\n",
       "      <th></th>\n",
       "      <th>word</th>\n",
       "      <th>word_unit</th>\n",
       "      <th>word_type</th>\n",
       "      <th>pos</th>\n",
       "      <th>syllable_types</th>\n",
       "    </tr>\n",
       "    <tr>\n",
       "      <th>target_code</th>\n",
       "      <th></th>\n",
       "      <th></th>\n",
       "      <th></th>\n",
       "      <th></th>\n",
       "      <th></th>\n",
       "    </tr>\n",
       "  </thead>\n",
       "  <tbody>\n",
       "    <tr>\n",
       "      <th>1</th>\n",
       "      <td>가경-지</td>\n",
       "      <td>단어</td>\n",
       "      <td>한자어</td>\n",
       "      <td>명사</td>\n",
       "      <td>None</td>\n",
       "    </tr>\n",
       "    <tr>\n",
       "      <th>2</th>\n",
       "      <td>가계-하다01</td>\n",
       "      <td>단어</td>\n",
       "      <td>혼종어</td>\n",
       "      <td>동사</td>\n",
       "      <td>None</td>\n",
       "    </tr>\n",
       "    <tr>\n",
       "      <th>3</th>\n",
       "      <td>가계02</td>\n",
       "      <td>단어</td>\n",
       "      <td>한자어</td>\n",
       "      <td>명사</td>\n",
       "      <td>None</td>\n",
       "    </tr>\n",
       "    <tr>\n",
       "      <th>4</th>\n",
       "      <td>가계-되다</td>\n",
       "      <td>단어</td>\n",
       "      <td>혼종어</td>\n",
       "      <td>동사</td>\n",
       "      <td>None</td>\n",
       "    </tr>\n",
       "    <tr>\n",
       "      <th>5</th>\n",
       "      <td>가계-하다03</td>\n",
       "      <td>단어</td>\n",
       "      <td>혼종어</td>\n",
       "      <td>동사</td>\n",
       "      <td>None</td>\n",
       "    </tr>\n",
       "    <tr>\n",
       "      <th>...</th>\n",
       "      <td>...</td>\n",
       "      <td>...</td>\n",
       "      <td>...</td>\n",
       "      <td>...</td>\n",
       "      <td>...</td>\n",
       "    </tr>\n",
       "    <tr>\n",
       "      <th>534435</th>\n",
       "      <td>지체^장애</td>\n",
       "      <td>구</td>\n",
       "      <td>한자어</td>\n",
       "      <td>품사 없음</td>\n",
       "      <td>None</td>\n",
       "    </tr>\n",
       "    <tr>\n",
       "      <th>534436</th>\n",
       "      <td>신체^장애인</td>\n",
       "      <td>구</td>\n",
       "      <td>한자어</td>\n",
       "      <td>품사 없음</td>\n",
       "      <td>None</td>\n",
       "    </tr>\n",
       "    <tr>\n",
       "      <th>534437</th>\n",
       "      <td>지각06</td>\n",
       "      <td>단어</td>\n",
       "      <td>한자어</td>\n",
       "      <td>명사</td>\n",
       "      <td>None</td>\n",
       "    </tr>\n",
       "    <tr>\n",
       "      <th>534438</th>\n",
       "      <td>대마^난류</td>\n",
       "      <td>단어</td>\n",
       "      <td>한자어</td>\n",
       "      <td>품사 없음</td>\n",
       "      <td>None</td>\n",
       "    </tr>\n",
       "    <tr>\n",
       "      <th>534439</th>\n",
       "      <td>노동조합^총연맹</td>\n",
       "      <td>단어</td>\n",
       "      <td>한자어</td>\n",
       "      <td>품사 없음</td>\n",
       "      <td>None</td>\n",
       "    </tr>\n",
       "  </tbody>\n",
       "</table>\n",
       "<p>434870 rows × 5 columns</p>\n",
       "</div>"
      ],
      "text/plain": [
       "                 word word_unit word_type    pos syllable_types\n",
       "target_code                                                    \n",
       "1                가경-지        단어       한자어     명사           None\n",
       "2             가계-하다01        단어       혼종어     동사           None\n",
       "3                가계02        단어       한자어     명사           None\n",
       "4               가계-되다        단어       혼종어     동사           None\n",
       "5             가계-하다03        단어       혼종어     동사           None\n",
       "...               ...       ...       ...    ...            ...\n",
       "534435          지체^장애         구       한자어  품사 없음           None\n",
       "534436         신체^장애인         구       한자어  품사 없음           None\n",
       "534437           지각06        단어       한자어     명사           None\n",
       "534438          대마^난류        단어       한자어  품사 없음           None\n",
       "534439       노동조합^총연맹        단어       한자어  품사 없음           None\n",
       "\n",
       "[434870 rows x 5 columns]"
      ]
     },
     "execution_count": 36,
     "metadata": {},
     "output_type": "execute_result"
    }
   ],
   "source": [
    "df['syllable_types'] = None # EDIT THIS LINE\n",
    "df"
   ]
  },
  {
   "cell_type": "code",
   "execution_count": 37,
   "metadata": {},
   "outputs": [
    {
     "data": {
      "text/html": [
       "<div>\n",
       "<style scoped>\n",
       "    .dataframe tbody tr th:only-of-type {\n",
       "        vertical-align: middle;\n",
       "    }\n",
       "\n",
       "    .dataframe tbody tr th {\n",
       "        vertical-align: top;\n",
       "    }\n",
       "\n",
       "    .dataframe thead th {\n",
       "        text-align: right;\n",
       "    }\n",
       "</style>\n",
       "<table border=\"1\" class=\"dataframe\">\n",
       "  <thead>\n",
       "    <tr style=\"text-align: right;\">\n",
       "      <th></th>\n",
       "    </tr>\n",
       "  </thead>\n",
       "  <tbody>\n",
       "  </tbody>\n",
       "</table>\n",
       "</div>"
      ],
      "text/plain": [
       "Empty DataFrame\n",
       "Columns: []\n",
       "Index: []"
      ]
     },
     "execution_count": 37,
     "metadata": {},
     "output_type": "execute_result"
    }
   ],
   "source": [
    "# 품사가 명사인 단어만 따로 저장하기\n",
    "nouns_words = df[df['pos']] # EDIT THIS LINE"
   ]
  },
  {
   "cell_type": "code",
   "execution_count": null,
   "metadata": {},
   "outputs": [],
   "source": [
    "nouns_syllables = nouns_words.explode('syllable_types')"
   ]
  },
  {
   "cell_type": "code",
   "execution_count": 38,
   "metadata": {},
   "outputs": [],
   "source": [
    "# 음절 유형의 분포를 세어보기\n",
    "nouns_syllables['syllable_types'].value_counts()"
   ]
  },
  {
   "cell_type": "code",
   "execution_count": 39,
   "metadata": {},
   "outputs": [
    {
     "data": {
      "text/html": [
       "<div>\n",
       "<style scoped>\n",
       "    .dataframe tbody tr th:only-of-type {\n",
       "        vertical-align: middle;\n",
       "    }\n",
       "\n",
       "    .dataframe tbody tr th {\n",
       "        vertical-align: top;\n",
       "    }\n",
       "\n",
       "    .dataframe thead th {\n",
       "        text-align: right;\n",
       "    }\n",
       "</style>\n",
       "<table border=\"1\" class=\"dataframe\">\n",
       "  <thead>\n",
       "    <tr style=\"text-align: right;\">\n",
       "      <th></th>\n",
       "    </tr>\n",
       "  </thead>\n",
       "  <tbody>\n",
       "  </tbody>\n",
       "</table>\n",
       "</div>"
      ],
      "text/plain": [
       "Empty DataFrame\n",
       "Columns: []\n",
       "Index: []"
      ]
     },
     "execution_count": 39,
     "metadata": {},
     "output_type": "execute_result"
    }
   ],
   "source": [
    "# 음절 유형의 분포를 단어 유형별로 각기 계산하기\n",
    "table = pd.crosstab(nouns_syllables['word_type'], nouns_syllables['syllable_type'])\n",
    "table"
   ]
  },
  {
   "cell_type": "markdown",
   "metadata": {},
   "source": [
    "lamda <variable_name>:<return_value>=> 함수의 이름을 지정하지 않고 apply사용 가능"
   ]
  },
  {
   "cell_type": "code",
   "execution_count": 40,
   "metadata": {},
   "outputs": [
    {
     "data": {
      "text/html": [
       "<div>\n",
       "<style scoped>\n",
       "    .dataframe tbody tr th:only-of-type {\n",
       "        vertical-align: middle;\n",
       "    }\n",
       "\n",
       "    .dataframe tbody tr th {\n",
       "        vertical-align: top;\n",
       "    }\n",
       "\n",
       "    .dataframe thead th {\n",
       "        text-align: right;\n",
       "    }\n",
       "</style>\n",
       "<table border=\"1\" class=\"dataframe\">\n",
       "  <thead>\n",
       "    <tr style=\"text-align: right;\">\n",
       "      <th></th>\n",
       "    </tr>\n",
       "  </thead>\n",
       "  <tbody>\n",
       "  </tbody>\n",
       "</table>\n",
       "</div>"
      ],
      "text/plain": [
       "Empty DataFrame\n",
       "Columns: []\n",
       "Index: []"
      ]
     },
     "execution_count": 40,
     "metadata": {},
     "output_type": "execute_result"
    }
   ],
   "source": [
    "# 단어 유형별 음절 유형의 출현 빈도를 백분율로 표현하기\n",
    "table.apply(lambda x: x/x.sum()*100, axis=1) # EDIT THIS LINEs"
   ]
  }
 ],
 "metadata": {
  "kernelspec": {
   "display_name": "Python 3",
   "language": "python",
   "name": "python3"
  },
  "language_info": {
   "codemirror_mode": {
    "name": "ipython",
    "version": 3
   },
   "file_extension": ".py",
   "mimetype": "text/x-python",
   "name": "python",
   "nbconvert_exporter": "python",
   "pygments_lexer": "ipython3",
   "version": "3.11.6"
  }
 },
 "nbformat": 4,
 "nbformat_minor": 2
}
