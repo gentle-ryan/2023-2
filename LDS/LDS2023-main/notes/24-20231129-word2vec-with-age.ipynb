{
 "cells": [
  {
   "cell_type": "markdown",
   "metadata": {},
   "source": [
    "# 2023-2 언어데이터과학 24강 (2023-11-29) 실습 (3) Word2Vec을 사용한 연령별 단어 분포 비교"
   ]
  },
  {
   "cell_type": "markdown",
   "metadata": {},
   "source": [
    "## 코퍼스 준비"
   ]
  },
  {
   "cell_type": "code",
   "execution_count": 1,
   "metadata": {},
   "outputs": [],
   "source": [
    "import pandas as pd\n",
    "from gensim.models import Word2Vec"
   ]
  },
  {
   "cell_type": "code",
   "execution_count": 2,
   "metadata": {},
   "outputs": [],
   "source": [
    "DATA_PATH = '../data/NIKL_OM_form_age_sex.csv.tar.gz'"
   ]
  },
  {
   "cell_type": "code",
   "execution_count": 3,
   "metadata": {},
   "outputs": [
    {
     "data": {
      "text/html": [
       "<div>\n",
       "<style scoped>\n",
       "    .dataframe tbody tr th:only-of-type {\n",
       "        vertical-align: middle;\n",
       "    }\n",
       "\n",
       "    .dataframe tbody tr th {\n",
       "        vertical-align: top;\n",
       "    }\n",
       "\n",
       "    .dataframe thead th {\n",
       "        text-align: right;\n",
       "    }\n",
       "</style>\n",
       "<table border=\"1\" class=\"dataframe\">\n",
       "  <thead>\n",
       "    <tr style=\"text-align: right;\">\n",
       "      <th></th>\n",
       "      <th>form</th>\n",
       "      <th>speaker_id</th>\n",
       "      <th>age</th>\n",
       "      <th>sex</th>\n",
       "    </tr>\n",
       "    <tr>\n",
       "      <th>id</th>\n",
       "      <th></th>\n",
       "      <th></th>\n",
       "      <th></th>\n",
       "      <th></th>\n",
       "    </tr>\n",
       "  </thead>\n",
       "  <tbody>\n",
       "    <tr>\n",
       "      <th>MDRW2100000001.1.1</th>\n",
       "      <td>안녕하세요</td>\n",
       "      <td>MDRW2100000001_1</td>\n",
       "      <td>20대</td>\n",
       "      <td>여성</td>\n",
       "    </tr>\n",
       "    <tr>\n",
       "      <th>MDRW2100000001.1.4</th>\n",
       "      <td>이거 해봐요&gt;&lt;</td>\n",
       "      <td>MDRW2100000001_1</td>\n",
       "      <td>20대</td>\n",
       "      <td>여성</td>\n",
       "    </tr>\n",
       "    <tr>\n",
       "      <th>MDRW2100000001.1.7</th>\n",
       "      <td>오 ㅋㅋㅋㅋㅋㅋㅋㅋㅋㅋ</td>\n",
       "      <td>MDRW2100000001_1</td>\n",
       "      <td>20대</td>\n",
       "      <td>여성</td>\n",
       "    </tr>\n",
       "    <tr>\n",
       "      <th>MDRW2100000001.1.8</th>\n",
       "      <td>안챙겨도 잘커요</td>\n",
       "      <td>MDRW2100000001_1</td>\n",
       "      <td>20대</td>\n",
       "      <td>여성</td>\n",
       "    </tr>\n",
       "    <tr>\n",
       "      <th>MDRW2100000001.1.9</th>\n",
       "      <td>너무 맞는데요ㅜㅜ?</td>\n",
       "      <td>MDRW2100000001_1</td>\n",
       "      <td>20대</td>\n",
       "      <td>여성</td>\n",
       "    </tr>\n",
       "    <tr>\n",
       "      <th>...</th>\n",
       "      <td>...</td>\n",
       "      <td>...</td>\n",
       "      <td>...</td>\n",
       "      <td>...</td>\n",
       "    </tr>\n",
       "    <tr>\n",
       "      <th>MMRW2100000241.1.2774</th>\n",
       "      <td>그 낚시대회 전용 투망 있을걸???</td>\n",
       "      <td>MMRW2100000241_2</td>\n",
       "      <td>20대</td>\n",
       "      <td>여성</td>\n",
       "    </tr>\n",
       "    <tr>\n",
       "      <th>MMRW2100000241.1.2775</th>\n",
       "      <td>한 번도 안 써봄...?</td>\n",
       "      <td>MMRW2100000241_2</td>\n",
       "      <td>20대</td>\n",
       "      <td>여성</td>\n",
       "    </tr>\n",
       "    <tr>\n",
       "      <th>MMRW2100000241.1.2776</th>\n",
       "      <td>그거 개꿀인디</td>\n",
       "      <td>MMRW2100000241_2</td>\n",
       "      <td>20대</td>\n",
       "      <td>여성</td>\n",
       "    </tr>\n",
       "    <tr>\n",
       "      <th>MMRW2100000241.1.2780</th>\n",
       "      <td>ㅋㅋㅋㅋㅋㅋ잠수복 개귀여웤ㅋㅋㅋㅋ</td>\n",
       "      <td>MMRW2100000241_2</td>\n",
       "      <td>20대</td>\n",
       "      <td>여성</td>\n",
       "    </tr>\n",
       "    <tr>\n",
       "      <th>MMRW2100000241.1.2786</th>\n",
       "      <td>ㅋㅋㅋㅋㅋㅋㅋㅋㅋㅋㅋㅋㅋ가즈아!</td>\n",
       "      <td>MMRW2100000241_2</td>\n",
       "      <td>20대</td>\n",
       "      <td>여성</td>\n",
       "    </tr>\n",
       "  </tbody>\n",
       "</table>\n",
       "<p>2977840 rows × 4 columns</p>\n",
       "</div>"
      ],
      "text/plain": [
       "                                      form        speaker_id  age sex\n",
       "id                                                                   \n",
       "MDRW2100000001.1.1                   안녕하세요  MDRW2100000001_1  20대  여성\n",
       "MDRW2100000001.1.4                이거 해봐요><  MDRW2100000001_1  20대  여성\n",
       "MDRW2100000001.1.7            오 ㅋㅋㅋㅋㅋㅋㅋㅋㅋㅋ  MDRW2100000001_1  20대  여성\n",
       "MDRW2100000001.1.8                안챙겨도 잘커요  MDRW2100000001_1  20대  여성\n",
       "MDRW2100000001.1.9              너무 맞는데요ㅜㅜ?  MDRW2100000001_1  20대  여성\n",
       "...                                    ...               ...  ...  ..\n",
       "MMRW2100000241.1.2774  그 낚시대회 전용 투망 있을걸???  MMRW2100000241_2  20대  여성\n",
       "MMRW2100000241.1.2775        한 번도 안 써봄...?  MMRW2100000241_2  20대  여성\n",
       "MMRW2100000241.1.2776              그거 개꿀인디  MMRW2100000241_2  20대  여성\n",
       "MMRW2100000241.1.2780   ㅋㅋㅋㅋㅋㅋ잠수복 개귀여웤ㅋㅋㅋㅋ  MMRW2100000241_2  20대  여성\n",
       "MMRW2100000241.1.2786    ㅋㅋㅋㅋㅋㅋㅋㅋㅋㅋㅋㅋㅋ가즈아!  MMRW2100000241_2  20대  여성\n",
       "\n",
       "[2977840 rows x 4 columns]"
      ]
     },
     "execution_count": 3,
     "metadata": {},
     "output_type": "execute_result"
    }
   ],
   "source": [
    "utterances = pd.read_csv(DATA_PATH, compression='gzip', on_bad_lines='skip')\n",
    "utterances.dropna(inplace=True)\n",
    "utterances.rename(columns={utterances.columns[0]: 'id'}, inplace=True)\n",
    "utterances.set_index('id', inplace=True)\n",
    "utterances"
   ]
  },
  {
   "cell_type": "markdown",
   "metadata": {},
   "source": [
    "## 코퍼스 가공"
   ]
  },
  {
   "cell_type": "code",
   "execution_count": 4,
   "metadata": {},
   "outputs": [
    {
     "name": "stdout",
     "output_type": "stream",
     "text": [
      "id\n",
      "MDRW2100000001.1.1            [안녕하세요]\n",
      "MDRW2100000001.1.4        [이거, 해봐요><]\n",
      "MDRW2100000001.1.7    [오, ㅋㅋㅋㅋㅋㅋㅋㅋㅋㅋ]\n",
      "MDRW2100000001.1.8        [안챙겨도, 잘커요]\n",
      "MDRW2100000001.1.9      [너무, 맞는데요ㅜㅜ?]\n",
      "Name: form, dtype: object\n"
     ]
    }
   ],
   "source": [
    "corpus = utterances['form'].apply(str.split)\n",
    "print(corpus[:5])"
   ]
  },
  {
   "cell_type": "markdown",
   "metadata": {},
   "source": [
    "## 코퍼스 분할"
   ]
  },
  {
   "cell_type": "markdown",
   "metadata": {},
   "source": [
    "발화를 발화자의 연령에 따라 분할하기"
   ]
  },
  {
   "cell_type": "code",
   "execution_count": 8,
   "metadata": {},
   "outputs": [
    {
     "data": {
      "text/plain": [
       "age\n",
       "20대       1593040\n",
       "30대       1024097\n",
       "40대 이상     251095\n",
       "10대        109608\n",
       "Name: count, dtype: int64"
      ]
     },
     "execution_count": 8,
     "metadata": {},
     "output_type": "execute_result"
    }
   ],
   "source": [
    "utterances['age'].value_counts()"
   ]
  },
  {
   "cell_type": "code",
   "execution_count": 36,
   "metadata": {},
   "outputs": [
    {
     "data": {
      "text/plain": [
       "id\n",
       "MDRW2100000021.1.2                  [왜?]\n",
       "MDRW2100000021.1.4                   [왜]\n",
       "MDRW2100000021.1.5               [티브시청중]\n",
       "MDRW2100000021.1.7                   [왜]\n",
       "MDRW2100000021.1.8                  [허준]\n",
       "                              ...       \n",
       "MMRW2100000225.1.6326         [name30이?]\n",
       "MMRW2100000225.1.6349        [현금으로, 나와?]\n",
       "MMRW2100000225.1.6351       [날씨, 진짜, 덥네]\n",
       "MMRW2100000225.1.6354                [응]\n",
       "MMRW2100000225.1.6355    [오는동안이, 너무, 더워]\n",
       "Name: form, Length: 251095, dtype: object"
      ]
     },
     "execution_count": 36,
     "metadata": {},
     "output_type": "execute_result"
    }
   ],
   "source": [
    "corpus20 = utterances[utterances['age'] == '20대']['form'].apply(str.split)\n",
    "corpus30 = utterances[utterances['age'] == '30대']['form'].apply(str.split)\n",
    "corpus40 = utterances[utterances['age'] == '40대 이상']['form'].apply(str.split)\n",
    "corpus40"
   ]
  },
  {
   "cell_type": "markdown",
   "metadata": {},
   "source": [
    "## 코퍼스별 Word2Vec 모델 훈련"
   ]
  },
  {
   "cell_type": "code",
   "execution_count": 31,
   "metadata": {},
   "outputs": [],
   "source": [
    "d = 100 # dimension of word vectors\n",
    "L = 2 # window size\n",
    "k = 5 # negative samples per positive sample"
   ]
  },
  {
   "cell_type": "code",
   "execution_count": 37,
   "metadata": {},
   "outputs": [],
   "source": [
    "model20 = Word2Vec(sentences=corpus20, sg=1, min_count=5, vector_size=d, window=L, negative=k)\n",
    "model20.save('../models/word2vec-modu-online-age20s')\n",
    "# model20 = Word2Vec.load('../models/word2vec-modu-online-age20s')"
   ]
  },
  {
   "cell_type": "code",
   "execution_count": 5,
   "metadata": {},
   "outputs": [],
   "source": [
    "model30 = Word2Vec(sentences=corpus30, sg=1, min_count=5, vector_size=d, window=L, negative=k)\n",
    "model30.save('../models/word2vec-modu-online-age30s')\n",
    "# model30 = Word2Vec.load('../models/word2vec-modu-online-age30s')"
   ]
  },
  {
   "cell_type": "code",
   "execution_count": 6,
   "metadata": {},
   "outputs": [],
   "source": [
    "model40 = Word2Vec(sentences=corpus40, sg=1, min_count=5, vector_size=d, window=L, negative=k)\n",
    "model40.save('../models/word2vec-modu-online-age40s')\n",
    "# model40 = Word2Vec.load('../models/word2vec-modu-online-age40s')"
   ]
  },
  {
   "cell_type": "markdown",
   "metadata": {},
   "source": [
    "## '아주'와 '완전'의 연령별 분포 비교"
   ]
  },
  {
   "cell_type": "code",
   "execution_count": 38,
   "metadata": {},
   "outputs": [],
   "source": [
    "w1 = '아주'\n",
    "w2 = '완전'"
   ]
  },
  {
   "cell_type": "code",
   "execution_count": 39,
   "metadata": {},
   "outputs": [
    {
     "data": {
      "text/plain": [
       "[('매우', 0.7886679172515869),\n",
       " ('굉장히', 0.7853104472160339),\n",
       " ('편하고', 0.7430997490882874),\n",
       " ('훨', 0.7225634455680847),\n",
       " ('시원하고', 0.7224810123443604),\n",
       " ('넘나', 0.7207802534103394),\n",
       " ('너무너무', 0.7156858444213867),\n",
       " ('나름', 0.7131124138832092),\n",
       " ('좋고', 0.710421621799469),\n",
       " ('보기', 0.708667516708374)]"
      ]
     },
     "execution_count": 39,
     "metadata": {},
     "output_type": "execute_result"
    }
   ],
   "source": [
    "model20.wv.most_similar([w1])"
   ]
  },
  {
   "cell_type": "code",
   "execution_count": 40,
   "metadata": {},
   "outputs": [],
   "source": [
    "def get_most_similar_words(model, word, topn=30):\n",
    "    return [w for (w, _) in model.wv.most_similar([word], topn=topn)]"
   ]
  },
  {
   "cell_type": "code",
   "execution_count": 41,
   "metadata": {},
   "outputs": [
    {
     "name": "stdout",
     "output_type": "stream",
     "text": [
      "['매우', '굉장히', '편하고', '훨', '시원하고', '넘나', '너무너무', '나름', '좋고', '보기', '되게', '훨씬', '무척', '참', '워낙', '상당히', '완전', '은근', '너뮤', '가격도', '보여서', '시원해서', '여러모로', '분위기가', '살짝', '선선하니', '귀엽고', '의외로', '특유의', '예쁘고']\n"
     ]
    },
    {
     "ename": "NameError",
     "evalue": "name 'model30' is not defined",
     "output_type": "error",
     "traceback": [
      "\u001b[1;31m---------------------------------------------------------------------------\u001b[0m",
      "\u001b[1;31mNameError\u001b[0m                                 Traceback (most recent call last)",
      "\u001b[1;32mc:\\Users\\YUNA\\Documents\\GitHub\\LDS2023\\notes\\24-20231129-word2vec-with-age.ipynb Cell 21\u001b[0m line \u001b[0;36m3\n\u001b[0;32m      <a href='vscode-notebook-cell:/c%3A/Users/YUNA/Documents/GitHub/LDS2023/notes/24-20231129-word2vec-with-age.ipynb#X26sZmlsZQ%3D%3D?line=0'>1</a>\u001b[0m \u001b[39m# w1: '아주'\u001b[39;00m\n\u001b[0;32m      <a href='vscode-notebook-cell:/c%3A/Users/YUNA/Documents/GitHub/LDS2023/notes/24-20231129-word2vec-with-age.ipynb#X26sZmlsZQ%3D%3D?line=1'>2</a>\u001b[0m \u001b[39mprint\u001b[39m(get_most_similar_words(model20, w1))\n\u001b[1;32m----> <a href='vscode-notebook-cell:/c%3A/Users/YUNA/Documents/GitHub/LDS2023/notes/24-20231129-word2vec-with-age.ipynb#X26sZmlsZQ%3D%3D?line=2'>3</a>\u001b[0m \u001b[39mprint\u001b[39m(get_most_similar_words(model30, w1))\n\u001b[0;32m      <a href='vscode-notebook-cell:/c%3A/Users/YUNA/Documents/GitHub/LDS2023/notes/24-20231129-word2vec-with-age.ipynb#X26sZmlsZQ%3D%3D?line=3'>4</a>\u001b[0m \u001b[39mprint\u001b[39m(get_most_similar_words(model40, w1))\n",
      "\u001b[1;31mNameError\u001b[0m: name 'model30' is not defined"
     ]
    }
   ],
   "source": [
    "# w1: '아주'\n",
    "print(get_most_similar_words(model20, w1))\n",
    "print(get_most_similar_words(model30, w1))\n",
    "print(get_most_similar_words(model40, w1))"
   ]
  },
  {
   "cell_type": "code",
   "execution_count": 11,
   "metadata": {},
   "outputs": [
    {
     "name": "stdout",
     "output_type": "stream",
     "text": [
      "['짱', '넘나', '너무너무', '겁나', '되게', '대박', '아주', '넘', '디게', '왕', '연기', '들어도', '너뮤', '생각만해도', '굉장히', '진쨔', '졸라', '은근', 'ㅈㄴ', '왤캐', '!!!', '겁내', '진짜..', '!!!!', '목소리', '귀엽고', '최고', '으악', '진짜진짜', '매우']\n",
      "['대박', '너무너무', '넘나', '짱', '되게', '겁나', '은근', 'ㅠㅠㅠㅠㅠ', '우왕', '크', '참', '넘', '맛있고', '매우', '무지', '최고', '진짜', '세상', '와우', '생각만해도', '정말', '굉장히', '좋다', 'ㅜㅜㅜ', '!!', 'ㅋㅋㅋㅋ아', '아주', '맛있겠다', '둘다', '증말']\n",
      "['그쵸', 'ㅋㅋㅋㅋㅋ', '대박', '저런', '역시', '그렇죠', '헐', '그러게요', '저도요', '좋네요', 'ㅎㅎㅎ', '그것도', '헉', '앗', '웃겨', '아하', '웅', '그런가요', 'ㅋㅋㅋㅋㅋㅋ', '벌써', '그건', 'ㅎㅎㅎㅎ', '다들', '그래요?', '좋네', '그래요', '그렇구나', '좋죠', '그러시군요', '우와']\n"
     ]
    }
   ],
   "source": [
    "# w2: '완전'\n",
    "print(get_most_similar_words(model20, w2))\n",
    "print(get_most_similar_words(model30, w2))\n",
    "print(get_most_similar_words(model40, w2))"
   ]
  },
  {
   "cell_type": "code",
   "execution_count": 21,
   "metadata": {},
   "outputs": [
    {
     "data": {
      "text/plain": [
       "[('짱', 0.8095357418060303),\n",
       " ('넘나', 0.8067042231559753),\n",
       " ('너무너무', 0.7877914905548096),\n",
       " ('매우', 0.7732204794883728),\n",
       " ('굉장히', 0.7706792950630188),\n",
       " ('되게', 0.7693825960159302),\n",
       " ('겁나', 0.7388333678245544),\n",
       " ('너뮤', 0.7318142056465149),\n",
       " ('무척', 0.7240220904350281),\n",
       " ('넘', 0.7208937406539917)]"
      ]
     },
     "execution_count": 21,
     "metadata": {},
     "output_type": "execute_result"
    }
   ],
   "source": [
    "model20.wv.most_similar(positive=['아주', '완전'])"
   ]
  },
  {
   "cell_type": "code",
   "execution_count": 22,
   "metadata": {},
   "outputs": [
    {
     "data": {
      "text/plain": [
       "[('넘나', 0.879448413848877),\n",
       " ('너무너무', 0.8639437556266785),\n",
       " ('매우', 0.8635697364807129),\n",
       " ('되게', 0.8561486005783081),\n",
       " ('은근', 0.8422956466674805),\n",
       " ('참', 0.8250255584716797),\n",
       " ('굉장히', 0.8187215924263),\n",
       " ('생각보다', 0.8132363557815552),\n",
       " ('겁나', 0.8108944892883301),\n",
       " ('무지', 0.807982325553894)]"
      ]
     },
     "execution_count": 22,
     "metadata": {},
     "output_type": "execute_result"
    }
   ],
   "source": [
    "model30.wv.most_similar(positive=['아주', '완전'])"
   ]
  },
  {
   "cell_type": "code",
   "execution_count": 23,
   "metadata": {},
   "outputs": [
    {
     "data": {
      "text/plain": [
       "[('역시', 0.9787756204605103),\n",
       " ('그쵸', 0.9763455986976624),\n",
       " ('ㅎㅎㅎㅎ', 0.9728397727012634),\n",
       " ('그러게요', 0.9717161655426025),\n",
       " ('그것도', 0.9711495041847229),\n",
       " ('오호', 0.9670016765594482),\n",
       " ('저도요', 0.9667932987213135),\n",
       " ('그런가요', 0.9662917256355286),\n",
       " ('ㅋㅋㅋㅋㅋㅋ', 0.9652441740036011),\n",
       " ('좋네', 0.9650589227676392)]"
      ]
     },
     "execution_count": 23,
     "metadata": {},
     "output_type": "execute_result"
    }
   ],
   "source": [
    "model40.wv.most_similar(positive=['아주', '완전'])"
   ]
  },
  {
   "cell_type": "code",
   "execution_count": 39,
   "metadata": {},
   "outputs": [
    {
     "name": "stdout",
     "output_type": "stream",
     "text": [
      "['엄청', '넘', '참', '정말', '진짜', '젤', '날씨가', '요즘은', '요새', '가을', '생각보다', '완전', 'ㅠ', '반갑습니다^^', '다들', '요즘', '날씨', '그나마', '헐', '가을이', '겁나', '와', '특히', '좋아서', '제일', '아주', '아무래도', '그런가', '그러게요', '눈이']\n"
     ]
    }
   ],
   "source": [
    "print(get_most_similar_words(model40, '너무'))"
   ]
  }
 ],
 "metadata": {
  "kernelspec": {
   "display_name": "sbert",
   "language": "python",
   "name": "python3"
  },
  "language_info": {
   "codemirror_mode": {
    "name": "ipython",
    "version": 3
   },
   "file_extension": ".py",
   "mimetype": "text/x-python",
   "name": "python",
   "nbconvert_exporter": "python",
   "pygments_lexer": "ipython3",
   "version": "3.11.6"
  }
 },
 "nbformat": 4,
 "nbformat_minor": 2
}
