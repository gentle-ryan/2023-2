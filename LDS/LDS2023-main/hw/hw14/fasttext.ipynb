{
 "cells": [
  {
   "cell_type": "markdown",
   "metadata": {},
   "source": [
    "# 2023-2 언어데이터과학 24강 (2023-11-29) 실습 (1) `gensim` 패키지와 Word2Vec 모델 훈련\n",
    "\n",
    "## 오늘의 목표\n",
    "\n",
    "1. 모두의 말뭉치 '온라인 대화 말뭉치'의 발화 자료로 Word2Vec Skip-gram 모델을 훈련시킬 수 있다.\n",
    "2. 단어 사이의 의미 유사성을 벡터들의 코사인 유사도로 계량화하여 설명할 수 있다.\n",
    "3. t-SNE 기법을 사용하여 단어 벡터들을 2차원 평면에 시각화할 수 있다.\n",
    "4. Word2Vec 모델을 사용하여 연령대에 따른 단어의 분포 변화를 추적할 수 있다."
   ]
  },
  {
   "cell_type": "markdown",
   "metadata": {},
   "source": [
    "## 0. 데이터 가공\n",
    "\n",
    "12–15강에서 만든 모두의 말뭉치 [온라인 대화 말뭉치] 파일을 읽고 `gensim` 모듈에서 사용 가능한 코퍼스로 가공하자."
   ]
  },
  {
   "cell_type": "code",
   "execution_count": 3,
   "metadata": {},
   "outputs": [],
   "source": [
    "import pandas as pd\n",
    "from gensim.models import Word2Vec\n",
    "from tqdm import tqdm\n",
    "from gensim.models import FastText"
   ]
  },
  {
   "cell_type": "markdown",
   "metadata": {},
   "source": [
    "### 데이터 파일 읽기"
   ]
  },
  {
   "cell_type": "code",
   "execution_count": 2,
   "metadata": {},
   "outputs": [],
   "source": [
    "DATA_PATH = '../../data/NIKL_OM_form_age_sex.csv.tar.gz'"
   ]
  },
  {
   "cell_type": "code",
   "execution_count": 4,
   "metadata": {},
   "outputs": [
    {
     "data": {
      "text/html": [
       "<div>\n",
       "<style scoped>\n",
       "    .dataframe tbody tr th:only-of-type {\n",
       "        vertical-align: middle;\n",
       "    }\n",
       "\n",
       "    .dataframe tbody tr th {\n",
       "        vertical-align: top;\n",
       "    }\n",
       "\n",
       "    .dataframe thead th {\n",
       "        text-align: right;\n",
       "    }\n",
       "</style>\n",
       "<table border=\"1\" class=\"dataframe\">\n",
       "  <thead>\n",
       "    <tr style=\"text-align: right;\">\n",
       "      <th></th>\n",
       "      <th>data/NIKL_OM_form_age_sex.csv</th>\n",
       "      <th>form</th>\n",
       "      <th>speaker_id</th>\n",
       "      <th>age</th>\n",
       "      <th>sex</th>\n",
       "    </tr>\n",
       "  </thead>\n",
       "  <tbody>\n",
       "    <tr>\n",
       "      <th>0</th>\n",
       "      <td>MDRW2100000001.1.1</td>\n",
       "      <td>안녕하세요</td>\n",
       "      <td>MDRW2100000001_1</td>\n",
       "      <td>20대</td>\n",
       "      <td>여성</td>\n",
       "    </tr>\n",
       "    <tr>\n",
       "      <th>1</th>\n",
       "      <td>MDRW2100000001.1.4</td>\n",
       "      <td>이거 해봐요&gt;&lt;</td>\n",
       "      <td>MDRW2100000001_1</td>\n",
       "      <td>20대</td>\n",
       "      <td>여성</td>\n",
       "    </tr>\n",
       "    <tr>\n",
       "      <th>2</th>\n",
       "      <td>MDRW2100000001.1.7</td>\n",
       "      <td>오 ㅋㅋㅋㅋㅋㅋㅋㅋㅋㅋ</td>\n",
       "      <td>MDRW2100000001_1</td>\n",
       "      <td>20대</td>\n",
       "      <td>여성</td>\n",
       "    </tr>\n",
       "    <tr>\n",
       "      <th>3</th>\n",
       "      <td>MDRW2100000001.1.8</td>\n",
       "      <td>안챙겨도 잘커요</td>\n",
       "      <td>MDRW2100000001_1</td>\n",
       "      <td>20대</td>\n",
       "      <td>여성</td>\n",
       "    </tr>\n",
       "    <tr>\n",
       "      <th>4</th>\n",
       "      <td>MDRW2100000001.1.9</td>\n",
       "      <td>너무 맞는데요ㅜㅜ?</td>\n",
       "      <td>MDRW2100000001_1</td>\n",
       "      <td>20대</td>\n",
       "      <td>여성</td>\n",
       "    </tr>\n",
       "    <tr>\n",
       "      <th>...</th>\n",
       "      <td>...</td>\n",
       "      <td>...</td>\n",
       "      <td>...</td>\n",
       "      <td>...</td>\n",
       "      <td>...</td>\n",
       "    </tr>\n",
       "    <tr>\n",
       "      <th>2977836</th>\n",
       "      <td>MMRW2100000241.1.2775</td>\n",
       "      <td>한 번도 안 써봄...?</td>\n",
       "      <td>MMRW2100000241_2</td>\n",
       "      <td>20대</td>\n",
       "      <td>여성</td>\n",
       "    </tr>\n",
       "    <tr>\n",
       "      <th>2977837</th>\n",
       "      <td>MMRW2100000241.1.2776</td>\n",
       "      <td>그거 개꿀인디</td>\n",
       "      <td>MMRW2100000241_2</td>\n",
       "      <td>20대</td>\n",
       "      <td>여성</td>\n",
       "    </tr>\n",
       "    <tr>\n",
       "      <th>2977838</th>\n",
       "      <td>MMRW2100000241.1.2780</td>\n",
       "      <td>ㅋㅋㅋㅋㅋㅋ잠수복 개귀여웤ㅋㅋㅋㅋ</td>\n",
       "      <td>MMRW2100000241_2</td>\n",
       "      <td>20대</td>\n",
       "      <td>여성</td>\n",
       "    </tr>\n",
       "    <tr>\n",
       "      <th>2977839</th>\n",
       "      <td>MMRW2100000241.1.2786</td>\n",
       "      <td>ㅋㅋㅋㅋㅋㅋㅋㅋㅋㅋㅋㅋㅋ가즈아!</td>\n",
       "      <td>MMRW2100000241_2</td>\n",
       "      <td>20대</td>\n",
       "      <td>여성</td>\n",
       "    </tr>\n",
       "    <tr>\n",
       "      <th>2977840</th>\n",
       "      <td>NaN</td>\n",
       "      <td>NaN</td>\n",
       "      <td>NaN</td>\n",
       "      <td>NaN</td>\n",
       "      <td>NaN</td>\n",
       "    </tr>\n",
       "  </tbody>\n",
       "</table>\n",
       "<p>2977841 rows × 5 columns</p>\n",
       "</div>"
      ],
      "text/plain": [
       "        data/NIKL_OM_form_age_sex.csv                form        speaker_id  \\\n",
       "0                  MDRW2100000001.1.1               안녕하세요  MDRW2100000001_1   \n",
       "1                  MDRW2100000001.1.4            이거 해봐요><  MDRW2100000001_1   \n",
       "2                  MDRW2100000001.1.7        오 ㅋㅋㅋㅋㅋㅋㅋㅋㅋㅋ  MDRW2100000001_1   \n",
       "3                  MDRW2100000001.1.8            안챙겨도 잘커요  MDRW2100000001_1   \n",
       "4                  MDRW2100000001.1.9          너무 맞는데요ㅜㅜ?  MDRW2100000001_1   \n",
       "...                               ...                 ...               ...   \n",
       "2977836         MMRW2100000241.1.2775       한 번도 안 써봄...?  MMRW2100000241_2   \n",
       "2977837         MMRW2100000241.1.2776             그거 개꿀인디  MMRW2100000241_2   \n",
       "2977838         MMRW2100000241.1.2780  ㅋㅋㅋㅋㅋㅋ잠수복 개귀여웤ㅋㅋㅋㅋ  MMRW2100000241_2   \n",
       "2977839         MMRW2100000241.1.2786   ㅋㅋㅋㅋㅋㅋㅋㅋㅋㅋㅋㅋㅋ가즈아!  MMRW2100000241_2   \n",
       "2977840                           NaN                 NaN               NaN   \n",
       "\n",
       "         age  sex  \n",
       "0        20대   여성  \n",
       "1        20대   여성  \n",
       "2        20대   여성  \n",
       "3        20대   여성  \n",
       "4        20대   여성  \n",
       "...      ...  ...  \n",
       "2977836  20대   여성  \n",
       "2977837  20대   여성  \n",
       "2977838  20대   여성  \n",
       "2977839  20대   여성  \n",
       "2977840  NaN  NaN  \n",
       "\n",
       "[2977841 rows x 5 columns]"
      ]
     },
     "execution_count": 4,
     "metadata": {},
     "output_type": "execute_result"
    }
   ],
   "source": [
    "utterances = pd.read_csv(DATA_PATH, compression='gzip', on_bad_lines='skip')\n",
    "utterances"
   ]
  },
  {
   "cell_type": "code",
   "execution_count": 5,
   "metadata": {},
   "outputs": [
    {
     "data": {
      "text/html": [
       "<div>\n",
       "<style scoped>\n",
       "    .dataframe tbody tr th:only-of-type {\n",
       "        vertical-align: middle;\n",
       "    }\n",
       "\n",
       "    .dataframe tbody tr th {\n",
       "        vertical-align: top;\n",
       "    }\n",
       "\n",
       "    .dataframe thead th {\n",
       "        text-align: right;\n",
       "    }\n",
       "</style>\n",
       "<table border=\"1\" class=\"dataframe\">\n",
       "  <thead>\n",
       "    <tr style=\"text-align: right;\">\n",
       "      <th></th>\n",
       "      <th>form</th>\n",
       "      <th>speaker_id</th>\n",
       "      <th>age</th>\n",
       "      <th>sex</th>\n",
       "    </tr>\n",
       "    <tr>\n",
       "      <th>id</th>\n",
       "      <th></th>\n",
       "      <th></th>\n",
       "      <th></th>\n",
       "      <th></th>\n",
       "    </tr>\n",
       "  </thead>\n",
       "  <tbody>\n",
       "    <tr>\n",
       "      <th>MDRW2100000001.1.1</th>\n",
       "      <td>안녕하세요</td>\n",
       "      <td>MDRW2100000001_1</td>\n",
       "      <td>20대</td>\n",
       "      <td>여성</td>\n",
       "    </tr>\n",
       "    <tr>\n",
       "      <th>MDRW2100000001.1.4</th>\n",
       "      <td>이거 해봐요&gt;&lt;</td>\n",
       "      <td>MDRW2100000001_1</td>\n",
       "      <td>20대</td>\n",
       "      <td>여성</td>\n",
       "    </tr>\n",
       "    <tr>\n",
       "      <th>MDRW2100000001.1.7</th>\n",
       "      <td>오 ㅋㅋㅋㅋㅋㅋㅋㅋㅋㅋ</td>\n",
       "      <td>MDRW2100000001_1</td>\n",
       "      <td>20대</td>\n",
       "      <td>여성</td>\n",
       "    </tr>\n",
       "    <tr>\n",
       "      <th>MDRW2100000001.1.8</th>\n",
       "      <td>안챙겨도 잘커요</td>\n",
       "      <td>MDRW2100000001_1</td>\n",
       "      <td>20대</td>\n",
       "      <td>여성</td>\n",
       "    </tr>\n",
       "    <tr>\n",
       "      <th>MDRW2100000001.1.9</th>\n",
       "      <td>너무 맞는데요ㅜㅜ?</td>\n",
       "      <td>MDRW2100000001_1</td>\n",
       "      <td>20대</td>\n",
       "      <td>여성</td>\n",
       "    </tr>\n",
       "    <tr>\n",
       "      <th>...</th>\n",
       "      <td>...</td>\n",
       "      <td>...</td>\n",
       "      <td>...</td>\n",
       "      <td>...</td>\n",
       "    </tr>\n",
       "    <tr>\n",
       "      <th>MMRW2100000241.1.2774</th>\n",
       "      <td>그 낚시대회 전용 투망 있을걸???</td>\n",
       "      <td>MMRW2100000241_2</td>\n",
       "      <td>20대</td>\n",
       "      <td>여성</td>\n",
       "    </tr>\n",
       "    <tr>\n",
       "      <th>MMRW2100000241.1.2775</th>\n",
       "      <td>한 번도 안 써봄...?</td>\n",
       "      <td>MMRW2100000241_2</td>\n",
       "      <td>20대</td>\n",
       "      <td>여성</td>\n",
       "    </tr>\n",
       "    <tr>\n",
       "      <th>MMRW2100000241.1.2776</th>\n",
       "      <td>그거 개꿀인디</td>\n",
       "      <td>MMRW2100000241_2</td>\n",
       "      <td>20대</td>\n",
       "      <td>여성</td>\n",
       "    </tr>\n",
       "    <tr>\n",
       "      <th>MMRW2100000241.1.2780</th>\n",
       "      <td>ㅋㅋㅋㅋㅋㅋ잠수복 개귀여웤ㅋㅋㅋㅋ</td>\n",
       "      <td>MMRW2100000241_2</td>\n",
       "      <td>20대</td>\n",
       "      <td>여성</td>\n",
       "    </tr>\n",
       "    <tr>\n",
       "      <th>MMRW2100000241.1.2786</th>\n",
       "      <td>ㅋㅋㅋㅋㅋㅋㅋㅋㅋㅋㅋㅋㅋ가즈아!</td>\n",
       "      <td>MMRW2100000241_2</td>\n",
       "      <td>20대</td>\n",
       "      <td>여성</td>\n",
       "    </tr>\n",
       "  </tbody>\n",
       "</table>\n",
       "<p>2977840 rows × 4 columns</p>\n",
       "</div>"
      ],
      "text/plain": [
       "                                      form        speaker_id  age sex\n",
       "id                                                                   \n",
       "MDRW2100000001.1.1                   안녕하세요  MDRW2100000001_1  20대  여성\n",
       "MDRW2100000001.1.4                이거 해봐요><  MDRW2100000001_1  20대  여성\n",
       "MDRW2100000001.1.7            오 ㅋㅋㅋㅋㅋㅋㅋㅋㅋㅋ  MDRW2100000001_1  20대  여성\n",
       "MDRW2100000001.1.8                안챙겨도 잘커요  MDRW2100000001_1  20대  여성\n",
       "MDRW2100000001.1.9              너무 맞는데요ㅜㅜ?  MDRW2100000001_1  20대  여성\n",
       "...                                    ...               ...  ...  ..\n",
       "MMRW2100000241.1.2774  그 낚시대회 전용 투망 있을걸???  MMRW2100000241_2  20대  여성\n",
       "MMRW2100000241.1.2775        한 번도 안 써봄...?  MMRW2100000241_2  20대  여성\n",
       "MMRW2100000241.1.2776              그거 개꿀인디  MMRW2100000241_2  20대  여성\n",
       "MMRW2100000241.1.2780   ㅋㅋㅋㅋㅋㅋ잠수복 개귀여웤ㅋㅋㅋㅋ  MMRW2100000241_2  20대  여성\n",
       "MMRW2100000241.1.2786    ㅋㅋㅋㅋㅋㅋㅋㅋㅋㅋㅋㅋㅋ가즈아!  MMRW2100000241_2  20대  여성\n",
       "\n",
       "[2977840 rows x 4 columns]"
      ]
     },
     "execution_count": 5,
     "metadata": {},
     "output_type": "execute_result"
    }
   ],
   "source": [
    "utterances = pd.read_csv(DATA_PATH, compression='gzip', on_bad_lines='skip')\n",
    "utterances.dropna(inplace=True)\n",
    "utterances.rename(columns={utterances.columns[0]: 'id'}, inplace=True)\n",
    "utterances.set_index('id', inplace=True)\n",
    "utterances"
   ]
  },
  {
   "cell_type": "markdown",
   "metadata": {},
   "source": [
    "### 데이터 형변환\n",
    "\n",
    "일반적으로 Python의 여러 라이브러리에서 코퍼스를 다룰 때는 한 문장을 단어들의 리스트로 표현하고, 코퍼스 전체를 문장들의 리스트로 표현한다.\n",
    "\n",
    "지금 가지고 있는 데이터프레임에서는 문장에 해당하는 발화가 `str` 자료형이므로, `str.split()` 메소드를 사용하여 단어들의 리스트로 만들어 주자."
   ]
  },
  {
   "cell_type": "code",
   "execution_count": 6,
   "metadata": {},
   "outputs": [
    {
     "name": "stdout",
     "output_type": "stream",
     "text": [
      "id\n",
      "MDRW2100000001.1.1            [안녕하세요]\n",
      "MDRW2100000001.1.4        [이거, 해봐요><]\n",
      "MDRW2100000001.1.7    [오, ㅋㅋㅋㅋㅋㅋㅋㅋㅋㅋ]\n",
      "MDRW2100000001.1.8        [안챙겨도, 잘커요]\n",
      "MDRW2100000001.1.9      [너무, 맞는데요ㅜㅜ?]\n",
      "Name: form, dtype: object\n"
     ]
    }
   ],
   "source": [
    "corpus = utterances['form'].apply(str.split) # edit this line\n",
    "print(corpus[:5])"
   ]
  },
  {
   "cell_type": "markdown",
   "metadata": {},
   "source": [
    "## 1. FastText 모델 훈련"
   ]
  },
  {
   "cell_type": "markdown",
   "metadata": {},
   "source": [
    "### 모델 초기화"
   ]
  },
  {
   "cell_type": "code",
   "execution_count": 7,
   "metadata": {},
   "outputs": [],
   "source": [
    "model_ft = FastText(\n",
    "    sg=1, #skit-gram\n",
    "    min_count=5,#코퍼스에서 5번 미만으로 나온 단어는 생략 +\n",
    "    vector_size=100, #vector dimension, 벡터 사이즈가 많을수록 단어 하나를 많은 수의 실수값으로 나타내는 것이기에 더 정교해짐, 하지만 시간과 저장 공간이 늘어나 \n",
    "    window=2, # 앞의 2 단어 까지만 보겠음!\n",
    "    negative=5,\n",
    ")"
   ]
  },
  {
   "cell_type": "markdown",
   "metadata": {},
   "source": [
    "### Vocabulary 구축"
   ]
  },
  {
   "cell_type": "code",
   "execution_count": 8,
   "metadata": {},
   "outputs": [
    {
     "name": "stderr",
     "output_type": "stream",
     "text": [
      "  4%|▍         | 120424/2977840 [00:00<00:04, 599762.27it/s]"
     ]
    },
    {
     "name": "stderr",
     "output_type": "stream",
     "text": [
      "100%|██████████| 2977840/2977840 [00:06<00:00, 459890.30it/s]\n"
     ]
    }
   ],
   "source": [
    "model_ft.build_vocab(corpus_iterable=tqdm(corpus))"
   ]
  },
  {
   "cell_type": "markdown",
   "metadata": {},
   "source": [
    "### 모델 훈련시키기"
   ]
  },
  {
   "cell_type": "code",
   "execution_count": 9,
   "metadata": {},
   "outputs": [
    {
     "data": {
      "text/plain": [
       "(32844172, 46433495)"
      ]
     },
     "execution_count": 9,
     "metadata": {},
     "output_type": "execute_result"
    }
   ],
   "source": [
    "model_ft.train(\n",
    "    corpus_iterable=corpus,\n",
    "    total_examples=model_ft.corpus_count, # the number of sentences\n",
    "    epochs=5 #코퍼스를 다섯 번 읽어라\n",
    ")"
   ]
  },
  {
   "cell_type": "markdown",
   "metadata": {},
   "source": [
    "## 2. Word2Vec 모델 파일 불러오기"
   ]
  },
  {
   "cell_type": "code",
   "execution_count": 10,
   "metadata": {},
   "outputs": [],
   "source": [
    "MODEL_PATH = '../../models/word2vec-modu-online'\n",
    "\n",
    "model_wv = Word2Vec.load(MODEL_PATH)"
   ]
  },
  {
   "cell_type": "markdown",
   "metadata": {},
   "source": [
    "## 3. FastText 모델에서 유사도 계산"
   ]
  },
  {
   "cell_type": "code",
   "execution_count": 11,
   "metadata": {},
   "outputs": [
    {
     "name": "stdout",
     "output_type": "stream",
     "text": [
      "[('할아버지', 0.8393165469169617), ('초등학교', 0.8178285956382751), ('name10', 0.8162828087806702), ('이모가', 0.8138353228569031), ('너희', 0.8085528016090393), ('name12', 0.8033748269081116), ('name11', 0.800075113773346), ('니네', 0.7999460697174072), ('name9', 0.7989993691444397), ('형부', 0.7969768047332764)]\n"
     ]
    }
   ],
   "source": [
    "# Word2Vec\n",
    "print(model_wv.wv.most_similar(positive=['할머니', '아빠'], negative=['엄마'])) # ADD THIS LINE"
   ]
  },
  {
   "cell_type": "code",
   "execution_count": 12,
   "metadata": {},
   "outputs": [
    {
     "name": "stdout",
     "output_type": "stream",
     "text": [
      "[('할머니나', 0.8682805895805359), ('할머니만', 0.8610612154006958), ('할머니와', 0.8580013513565063), ('할머니댁', 0.8543075323104858), ('할머니의', 0.8542176485061646), ('할머니들', 0.8522158265113831), ('할머니를', 0.8480395078659058), ('할머니네', 0.8450437784194946), ('할머니랑', 0.8448000550270081), ('할머니댁에', 0.8434090614318848)]\n"
     ]
    }
   ],
   "source": [
    "#FastText\n",
    "print(model_ft.wv.most_similar(positive=['할머니', '아빠'], negative=['엄마'])) # ADD THIS LINE"
   ]
  },
  {
   "cell_type": "markdown",
   "metadata": {},
   "source": [
    "## model_wv와 model_ft비교"
   ]
  },
  {
   "cell_type": "code",
   "execution_count": 21,
   "metadata": {},
   "outputs": [
    {
     "data": {
      "text/plain": [
       "[('짱', 0.7086948156356812),\n",
       " ('되게', 0.6537210941314697),\n",
       " ('대박', 0.6253469586372375),\n",
       " ('넘나', 0.6242092251777649),\n",
       " ('무지', 0.6102795600891113),\n",
       " ('디게', 0.6088290810585022),\n",
       " ('겁나', 0.6073566675186157),\n",
       " ('왕', 0.6060531139373779),\n",
       " ('아주', 0.5990931391716003),\n",
       " ('진짜', 0.593711793422699)]"
      ]
     },
     "execution_count": 21,
     "metadata": {},
     "output_type": "execute_result"
    }
   ],
   "source": [
    "model_wv.wv.most_similar(['완전'])"
   ]
  },
  {
   "cell_type": "code",
   "execution_count": 22,
   "metadata": {},
   "outputs": [
    {
     "data": {
      "text/plain": [
       "[('나완전', 0.9183516502380371),\n",
       " ('완전완전', 0.8679131865501404),\n",
       " ('완전ㅠ', 0.8432345390319824),\n",
       " ('완전!', 0.7912197113037109),\n",
       " ('완전체', 0.7200117707252502),\n",
       " ('완전요', 0.7129219174385071),\n",
       " ('완전좋아', 0.6801377534866333),\n",
       " ('짱', 0.6633487939834595),\n",
       " ('완전체로', 0.6570025682449341),\n",
       " ('되게', 0.6539560556411743)]"
      ]
     },
     "execution_count": 22,
     "metadata": {},
     "output_type": "execute_result"
    }
   ],
   "source": [
    "model_ft.wv.most_similar(['완전'])"
   ]
  },
  {
   "cell_type": "code",
   "execution_count": 23,
   "metadata": {},
   "outputs": [
    {
     "data": {
      "text/plain": [
       "[('매우', 0.7686690092086792),\n",
       " ('굉장히', 0.667973518371582),\n",
       " ('무척', 0.6672804951667786),\n",
       " ('무지', 0.6570212244987488),\n",
       " ('상당히', 0.6478555798530579),\n",
       " ('되게', 0.6371939182281494),\n",
       " ('정말', 0.6210654973983765),\n",
       " ('넘나', 0.6183302402496338),\n",
       " ('디게', 0.6104277968406677),\n",
       " ('완전', 0.5990931987762451)]"
      ]
     },
     "execution_count": 23,
     "metadata": {},
     "output_type": "execute_result"
    }
   ],
   "source": [
    "model_wv.wv.most_similar(['아주'])"
   ]
  },
  {
   "cell_type": "code",
   "execution_count": 24,
   "metadata": {},
   "outputs": [
    {
     "data": {
      "text/plain": [
       "[('아주아주', 0.7850839495658875),\n",
       " ('아주~', 0.7354899048805237),\n",
       " ('매우', 0.7182841897010803),\n",
       " ('아주대', 0.7006793022155762),\n",
       " ('굉장히', 0.6741524934768677),\n",
       " ('아아주', 0.6675925254821777),\n",
       " ('아주조아', 0.6643998622894287),\n",
       " ('무척', 0.6612856388092041),\n",
       " ('아주좋아', 0.6600858569145203),\n",
       " ('매우매우', 0.6521584987640381)]"
      ]
     },
     "execution_count": 24,
     "metadata": {},
     "output_type": "execute_result"
    }
   ],
   "source": [
    "model_ft.wv.most_similar(['아주'])"
   ]
  },
  {
   "cell_type": "code",
   "execution_count": 25,
   "metadata": {},
   "outputs": [
    {
     "data": {
      "text/plain": [
       "[('~', 0.8403391242027283),\n",
       " ('ㅎㅎㅎㅎ', 0.8390881419181824),\n",
       " (':)', 0.8387506604194641),\n",
       " ('~~', 0.8380871415138245),\n",
       " ('ㅎㅎㅎ', 0.8291387557983398),\n",
       " ('히히', 0.8150464296340942),\n",
       " ('!', 0.7977784872055054),\n",
       " ('!!', 0.7945547699928284),\n",
       " ('ㅎ.ㅎ', 0.787035346031189),\n",
       " ('헤헤', 0.7769703269004822)]"
      ]
     },
     "execution_count": 25,
     "metadata": {},
     "output_type": "execute_result"
    }
   ],
   "source": [
    "model_wv.wv.most_similar(['^^'])"
   ]
  },
  {
   "cell_type": "code",
   "execution_count": 27,
   "metadata": {},
   "outputs": [
    {
     "data": {
      "text/plain": [
       "[('^^^', 0.8581323027610779),\n",
       " ('^^7', 0.8380123376846313),\n",
       " ('..^^', 0.8265505433082581),\n",
       " ('ㅎㅎ^^', 0.8249148726463318),\n",
       " ('^^^^', 0.8245590329170227),\n",
       " (':)', 0.8199918270111084),\n",
       " ('~~', 0.8174892067909241),\n",
       " ('~~~^^', 0.816228985786438),\n",
       " ('~~^^', 0.81227707862854),\n",
       " ('^^!', 0.8088483810424805)]"
      ]
     },
     "execution_count": 27,
     "metadata": {},
     "output_type": "execute_result"
    }
   ],
   "source": [
    "model_ft.wv.most_similar(['^^'])"
   ]
  },
  {
   "cell_type": "code",
   "execution_count": 26,
   "metadata": {},
   "outputs": [
    {
     "data": {
      "text/plain": [
       "[('ㅋㅋㅋ', 0.9428948163986206),\n",
       " ('ㅋㅋㅋㅋ', 0.8743140697479248),\n",
       " ('ㅋㅋㅋㅋㅋ', 0.8505040407180786),\n",
       " ('ㅋㅋㅋㅋㅋㅋ', 0.8215165138244629),\n",
       " ('ㅋㅋㅋㅋㅋㅋㅋ', 0.7947203516960144),\n",
       " ('ㅎㅎㅎ', 0.7686710357666016),\n",
       " ('ㅋㅋㅋㅋㅋㅋㅋㅋ', 0.7684953808784485),\n",
       " ('ㅎㅎㅎㅎ', 0.767102062702179),\n",
       " ('ㅎㅎ', 0.7521860003471375),\n",
       " ('ㅋㅋㅋㅋㅋㅋㅋㅋㅋ', 0.7333099246025085)]"
      ]
     },
     "execution_count": 26,
     "metadata": {},
     "output_type": "execute_result"
    }
   ],
   "source": [
    "model_wv.wv.most_similar(['ㅋㅋ'])"
   ]
  },
  {
   "cell_type": "code",
   "execution_count": 28,
   "metadata": {},
   "outputs": [
    {
     "data": {
      "text/plain": [
       "[('ㅋㅋㅋ', 0.8951324820518494),\n",
       " ('ㅋㅋㅋㄱㄱㅋㅋ', 0.8187497854232788),\n",
       " ('ㅋㅋㅋ엌ㅋㅋ', 0.813736081123352),\n",
       " ('ㅋㅋㅋㅌㅋㅋ', 0.811890721321106),\n",
       " ('ㅋㅋㅋㄲㅋㅋ', 0.810799777507782),\n",
       " ('ㅋㅋㅋㄱ', 0.8019217252731323),\n",
       " ('ㅋㅋㅋㄱㅋㅋ', 0.8017099499702454),\n",
       " ('ㅋㅋㄱ', 0.8008558750152588),\n",
       " ('ㅋㅋㅋ!', 0.8000901341438293),\n",
       " ('ㅋㅋㅌㅋㅋㅋ', 0.7987284064292908)]"
      ]
     },
     "execution_count": 28,
     "metadata": {},
     "output_type": "execute_result"
    }
   ],
   "source": [
    "model_ft.wv.most_similar(['ㅋㅋ'])"
   ]
  },
  {
   "cell_type": "code",
   "execution_count": 13,
   "metadata": {},
   "outputs": [
    {
     "data": {
      "text/plain": [
       "[('상상만해도', 0.9265857934951782),\n",
       " ('생각만해도', 0.9127776026725769),\n",
       " ('죽겠네', 0.9079214334487915),\n",
       " ('줜나', 0.9029603600502014),\n",
       " ('늠', 0.9028109908103943),\n",
       " ('너모', 0.8995006680488586),\n",
       " ('보기만해도', 0.8941039443016052),\n",
       " ('너무..', 0.8938891887664795),\n",
       " ('너무너무너무', 0.8874372839927673),\n",
       " ('너어무', 0.8868408799171448)]"
      ]
     },
     "execution_count": 13,
     "metadata": {},
     "output_type": "execute_result"
    }
   ],
   "source": [
    "model_wv.wv.most_similar(['너뮤'])"
   ]
  },
  {
   "cell_type": "code",
   "execution_count": 14,
   "metadata": {},
   "outputs": [
    {
     "data": {
      "text/plain": [
       "[('넘넘', 0.923252522945404),\n",
       " ('너모', 0.9174432754516602),\n",
       " ('너무싸서', 0.9153861403465271),\n",
       " ('너무예뻐서', 0.9131459593772888),\n",
       " ('너무달아', 0.9068230986595154),\n",
       " ('너무귀엽고', 0.9049050211906433),\n",
       " ('늠', 0.9035418629646301),\n",
       " ('너무덥고', 0.9010043740272522),\n",
       " ('너무너무너무', 0.9009068012237549),\n",
       " ('너무너무너무너무', 0.9002985954284668)]"
      ]
     },
     "execution_count": 14,
     "metadata": {},
     "output_type": "execute_result"
    }
   ],
   "source": [
    "model_ft.wv.most_similar(['너뮤'])"
   ]
  },
  {
   "cell_type": "markdown",
   "metadata": {},
   "source": [
    "## 5. FastText과  Word2Vec 차이 설명하기"
   ]
  },
  {
   "cell_type": "markdown",
   "metadata": {},
   "source": [
    "3번의 할머니 유사도 비교에서 model_wv는 할머니가 들어간 다른 단어를 출력하지 않지만, model_ft는 '할머니나', '할머니가'처럼  문장성분이 다른 경우를 모두 다른 단어로 여긴다. 4번의 아주나 너무 등의 사례에서도 Word2Vec은 완전완전완전 등의 해당 단어가 반복되는 경우를 제외하지만 fastText는 유사한 단어로 출력한다.\n",
    "이는 Word2Vec는 단어를 쪼개질 수 없는 단위로 생각하는 반면,  FastText는 하나의 단어를 n-gram으로 생각하여 내부적으로 쪼갤 수 있는 것으로 간주한다. 즉, 내부 단어, 서브워드(subword)를 고려하여 학습한다.\n",
    "영어의 경우에는 공백을 기준으로 한 단어가 하나의 품사에 대응되지만 한국어에는 공백을 기준으로 단어를 나누었을 때 여러 품사가 섞일 수 있기에 한국어에서는 Word2Vec을 활용하는 것이 유사성을 판단하기에 좋을 것 같다."
   ]
  }
 ],
 "metadata": {
  "kernelspec": {
   "display_name": "sbert",
   "language": "python",
   "name": "python3"
  },
  "language_info": {
   "codemirror_mode": {
    "name": "ipython",
    "version": 3
   },
   "file_extension": ".py",
   "mimetype": "text/x-python",
   "name": "python",
   "nbconvert_exporter": "python",
   "pygments_lexer": "ipython3",
   "version": "3.11.6"
  }
 },
 "nbformat": 4,
 "nbformat_minor": 2
}
